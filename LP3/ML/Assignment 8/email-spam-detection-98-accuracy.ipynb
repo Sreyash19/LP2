{
 "cells": [
  {
   "cell_type": "markdown",
   "id": "outer-ferry",
   "metadata": {
    "papermill": {
     "duration": 0.015603,
     "end_time": "2022-10-26T16:38:28.731549",
     "exception": false,
     "start_time": "2022-10-26T16:38:28.715946",
     "status": "completed"
    },
    "tags": []
   },
   "source": [
    "<img src=\"https://helpemailmarketing.com/wp-content/uploads/2019/12/spam-filter-34101a1e6c494d44aa1b6d10302537da.jpg\"  style='width:1000px'>"
   ]
  },
  {
   "cell_type": "code",
   "execution_count": 16,
   "id": "rubber-spelling",
   "metadata": {
    "_cell_guid": "b1076dfc-b9ad-4769-8c92-a6c4dae69d19",
    "_uuid": "8f2839f25d086af736a60e9eeb907d3b93b6e0e5",
    "papermill": {
     "duration": 0.037089,
     "end_time": "2022-10-26T16:38:28.783199",
     "exception": false,
     "start_time": "2022-10-26T16:38:28.746110",
     "status": "completed"
    },
    "tags": []
   },
   "outputs": [],
   "source": [
    "# This Python 3 environment comes with many helpful analytics libraries installed\n",
    "# It is defined by the kaggle/python Docker image: https://github.com/kaggle/docker-python\n",
    "# For example, here's several helpful packages to load\n",
    "\n",
    "import numpy as np # linear algebra\n",
    "import pandas as pd # data processing, CSV file I/O (e.g. pd.read_csv)\n",
    "\n",
    "# Input data files are available in the read-only \"../input/\" directory\n",
    "# For example, running this (by clicking run or pressing Shift+Enter) will list all files under the input directory\n",
    "\n",
    "import os\n",
    "for dirname, _, filenames in os.walk('/kaggle/20/'):\n",
    "    for filename in filenames:\n",
    "        print(os.path.join(dirname, filename))\n",
    "\n",
    "# You can write up to 20GB to the current directory (/kaggle/working/) that gets preserved as output when you create a version using \"Save & Run All\" \n",
    "# You can also write temporary files to /kaggle/temp/, but they won't be saved outside of the current session"
   ]
  },
  {
   "cell_type": "code",
   "execution_count": 17,
   "id": "rising-qualification",
   "metadata": {
    "papermill": {
     "duration": 0.07946,
     "end_time": "2022-10-26T16:38:28.877758",
     "exception": false,
     "start_time": "2022-10-26T16:38:28.798298",
     "status": "completed"
    },
    "tags": []
   },
   "outputs": [
    {
     "ename": "TimeoutError",
     "evalue": "[Errno 60] Operation timed out",
     "output_type": "error",
     "traceback": [
      "\u001b[0;31m---------------------------------------------------------------------------\u001b[0m",
      "\u001b[0;31mTimeoutError\u001b[0m                              Traceback (most recent call last)",
      "\u001b[0;32m/var/folders/6q/qvt06fd500z0bckj3fr_3y980000gn/T/ipykernel_90736/2169656869.py\u001b[0m in \u001b[0;36m<module>\u001b[0;34m\u001b[0m\n\u001b[0;32m----> 1\u001b[0;31m \u001b[0mdata\u001b[0m\u001b[0;34m=\u001b[0m\u001b[0mpd\u001b[0m\u001b[0;34m.\u001b[0m\u001b[0mread_csv\u001b[0m\u001b[0;34m(\u001b[0m\u001b[0;34m'spam.csv'\u001b[0m\u001b[0;34m)\u001b[0m\u001b[0;34m\u001b[0m\u001b[0;34m\u001b[0m\u001b[0m\n\u001b[0m\u001b[1;32m      2\u001b[0m \u001b[0mdata\u001b[0m\u001b[0;34m\u001b[0m\u001b[0;34m\u001b[0m\u001b[0m\n",
      "\u001b[0;32m~/opt/anaconda3/lib/python3.9/site-packages/pandas/util/_decorators.py\u001b[0m in \u001b[0;36mwrapper\u001b[0;34m(*args, **kwargs)\u001b[0m\n\u001b[1;32m    309\u001b[0m                     \u001b[0mstacklevel\u001b[0m\u001b[0;34m=\u001b[0m\u001b[0mstacklevel\u001b[0m\u001b[0;34m,\u001b[0m\u001b[0;34m\u001b[0m\u001b[0;34m\u001b[0m\u001b[0m\n\u001b[1;32m    310\u001b[0m                 )\n\u001b[0;32m--> 311\u001b[0;31m             \u001b[0;32mreturn\u001b[0m \u001b[0mfunc\u001b[0m\u001b[0;34m(\u001b[0m\u001b[0;34m*\u001b[0m\u001b[0margs\u001b[0m\u001b[0;34m,\u001b[0m \u001b[0;34m**\u001b[0m\u001b[0mkwargs\u001b[0m\u001b[0;34m)\u001b[0m\u001b[0;34m\u001b[0m\u001b[0;34m\u001b[0m\u001b[0m\n\u001b[0m\u001b[1;32m    312\u001b[0m \u001b[0;34m\u001b[0m\u001b[0m\n\u001b[1;32m    313\u001b[0m         \u001b[0;32mreturn\u001b[0m \u001b[0mwrapper\u001b[0m\u001b[0;34m\u001b[0m\u001b[0;34m\u001b[0m\u001b[0m\n",
      "\u001b[0;32m~/opt/anaconda3/lib/python3.9/site-packages/pandas/io/parsers/readers.py\u001b[0m in \u001b[0;36mread_csv\u001b[0;34m(filepath_or_buffer, sep, delimiter, header, names, index_col, usecols, squeeze, prefix, mangle_dupe_cols, dtype, engine, converters, true_values, false_values, skipinitialspace, skiprows, skipfooter, nrows, na_values, keep_default_na, na_filter, verbose, skip_blank_lines, parse_dates, infer_datetime_format, keep_date_col, date_parser, dayfirst, cache_dates, iterator, chunksize, compression, thousands, decimal, lineterminator, quotechar, quoting, doublequote, escapechar, comment, encoding, encoding_errors, dialect, error_bad_lines, warn_bad_lines, on_bad_lines, delim_whitespace, low_memory, memory_map, float_precision, storage_options)\u001b[0m\n\u001b[1;32m    676\u001b[0m     \u001b[0mkwds\u001b[0m\u001b[0;34m.\u001b[0m\u001b[0mupdate\u001b[0m\u001b[0;34m(\u001b[0m\u001b[0mkwds_defaults\u001b[0m\u001b[0;34m)\u001b[0m\u001b[0;34m\u001b[0m\u001b[0;34m\u001b[0m\u001b[0m\n\u001b[1;32m    677\u001b[0m \u001b[0;34m\u001b[0m\u001b[0m\n\u001b[0;32m--> 678\u001b[0;31m     \u001b[0;32mreturn\u001b[0m \u001b[0m_read\u001b[0m\u001b[0;34m(\u001b[0m\u001b[0mfilepath_or_buffer\u001b[0m\u001b[0;34m,\u001b[0m \u001b[0mkwds\u001b[0m\u001b[0;34m)\u001b[0m\u001b[0;34m\u001b[0m\u001b[0;34m\u001b[0m\u001b[0m\n\u001b[0m\u001b[1;32m    679\u001b[0m \u001b[0;34m\u001b[0m\u001b[0m\n\u001b[1;32m    680\u001b[0m \u001b[0;34m\u001b[0m\u001b[0m\n",
      "\u001b[0;32m~/opt/anaconda3/lib/python3.9/site-packages/pandas/io/parsers/readers.py\u001b[0m in \u001b[0;36m_read\u001b[0;34m(filepath_or_buffer, kwds)\u001b[0m\n\u001b[1;32m    573\u001b[0m \u001b[0;34m\u001b[0m\u001b[0m\n\u001b[1;32m    574\u001b[0m     \u001b[0;31m# Create the parser.\u001b[0m\u001b[0;34m\u001b[0m\u001b[0;34m\u001b[0m\u001b[0m\n\u001b[0;32m--> 575\u001b[0;31m     \u001b[0mparser\u001b[0m \u001b[0;34m=\u001b[0m \u001b[0mTextFileReader\u001b[0m\u001b[0;34m(\u001b[0m\u001b[0mfilepath_or_buffer\u001b[0m\u001b[0;34m,\u001b[0m \u001b[0;34m**\u001b[0m\u001b[0mkwds\u001b[0m\u001b[0;34m)\u001b[0m\u001b[0;34m\u001b[0m\u001b[0;34m\u001b[0m\u001b[0m\n\u001b[0m\u001b[1;32m    576\u001b[0m \u001b[0;34m\u001b[0m\u001b[0m\n\u001b[1;32m    577\u001b[0m     \u001b[0;32mif\u001b[0m \u001b[0mchunksize\u001b[0m \u001b[0;32mor\u001b[0m \u001b[0miterator\u001b[0m\u001b[0;34m:\u001b[0m\u001b[0;34m\u001b[0m\u001b[0;34m\u001b[0m\u001b[0m\n",
      "\u001b[0;32m~/opt/anaconda3/lib/python3.9/site-packages/pandas/io/parsers/readers.py\u001b[0m in \u001b[0;36m__init__\u001b[0;34m(self, f, engine, **kwds)\u001b[0m\n\u001b[1;32m    930\u001b[0m \u001b[0;34m\u001b[0m\u001b[0m\n\u001b[1;32m    931\u001b[0m         \u001b[0mself\u001b[0m\u001b[0;34m.\u001b[0m\u001b[0mhandles\u001b[0m\u001b[0;34m:\u001b[0m \u001b[0mIOHandles\u001b[0m \u001b[0;34m|\u001b[0m \u001b[0;32mNone\u001b[0m \u001b[0;34m=\u001b[0m \u001b[0;32mNone\u001b[0m\u001b[0;34m\u001b[0m\u001b[0;34m\u001b[0m\u001b[0m\n\u001b[0;32m--> 932\u001b[0;31m         \u001b[0mself\u001b[0m\u001b[0;34m.\u001b[0m\u001b[0m_engine\u001b[0m \u001b[0;34m=\u001b[0m \u001b[0mself\u001b[0m\u001b[0;34m.\u001b[0m\u001b[0m_make_engine\u001b[0m\u001b[0;34m(\u001b[0m\u001b[0mf\u001b[0m\u001b[0;34m,\u001b[0m \u001b[0mself\u001b[0m\u001b[0;34m.\u001b[0m\u001b[0mengine\u001b[0m\u001b[0;34m)\u001b[0m\u001b[0;34m\u001b[0m\u001b[0;34m\u001b[0m\u001b[0m\n\u001b[0m\u001b[1;32m    933\u001b[0m \u001b[0;34m\u001b[0m\u001b[0m\n\u001b[1;32m    934\u001b[0m     \u001b[0;32mdef\u001b[0m \u001b[0mclose\u001b[0m\u001b[0;34m(\u001b[0m\u001b[0mself\u001b[0m\u001b[0;34m)\u001b[0m\u001b[0;34m:\u001b[0m\u001b[0;34m\u001b[0m\u001b[0;34m\u001b[0m\u001b[0m\n",
      "\u001b[0;32m~/opt/anaconda3/lib/python3.9/site-packages/pandas/io/parsers/readers.py\u001b[0m in \u001b[0;36m_make_engine\u001b[0;34m(self, f, engine)\u001b[0m\n\u001b[1;32m   1232\u001b[0m \u001b[0;34m\u001b[0m\u001b[0m\n\u001b[1;32m   1233\u001b[0m         \u001b[0;32mtry\u001b[0m\u001b[0;34m:\u001b[0m\u001b[0;34m\u001b[0m\u001b[0;34m\u001b[0m\u001b[0m\n\u001b[0;32m-> 1234\u001b[0;31m             \u001b[0;32mreturn\u001b[0m \u001b[0mmapping\u001b[0m\u001b[0;34m[\u001b[0m\u001b[0mengine\u001b[0m\u001b[0;34m]\u001b[0m\u001b[0;34m(\u001b[0m\u001b[0mf\u001b[0m\u001b[0;34m,\u001b[0m \u001b[0;34m**\u001b[0m\u001b[0mself\u001b[0m\u001b[0;34m.\u001b[0m\u001b[0moptions\u001b[0m\u001b[0;34m)\u001b[0m\u001b[0;34m\u001b[0m\u001b[0;34m\u001b[0m\u001b[0m\n\u001b[0m\u001b[1;32m   1235\u001b[0m         \u001b[0;32mexcept\u001b[0m \u001b[0mException\u001b[0m\u001b[0;34m:\u001b[0m\u001b[0;34m\u001b[0m\u001b[0;34m\u001b[0m\u001b[0m\n\u001b[1;32m   1236\u001b[0m             \u001b[0;32mif\u001b[0m \u001b[0mself\u001b[0m\u001b[0;34m.\u001b[0m\u001b[0mhandles\u001b[0m \u001b[0;32mis\u001b[0m \u001b[0;32mnot\u001b[0m \u001b[0;32mNone\u001b[0m\u001b[0;34m:\u001b[0m\u001b[0;34m\u001b[0m\u001b[0;34m\u001b[0m\u001b[0m\n",
      "\u001b[0;32m~/opt/anaconda3/lib/python3.9/site-packages/pandas/io/parsers/c_parser_wrapper.py\u001b[0m in \u001b[0;36m__init__\u001b[0;34m(self, src, **kwds)\u001b[0m\n\u001b[1;32m     73\u001b[0m \u001b[0;34m\u001b[0m\u001b[0m\n\u001b[1;32m     74\u001b[0m         \u001b[0mkwds\u001b[0m\u001b[0;34m[\u001b[0m\u001b[0;34m\"dtype\"\u001b[0m\u001b[0;34m]\u001b[0m \u001b[0;34m=\u001b[0m \u001b[0mensure_dtype_objs\u001b[0m\u001b[0;34m(\u001b[0m\u001b[0mkwds\u001b[0m\u001b[0;34m.\u001b[0m\u001b[0mget\u001b[0m\u001b[0;34m(\u001b[0m\u001b[0;34m\"dtype\"\u001b[0m\u001b[0;34m,\u001b[0m \u001b[0;32mNone\u001b[0m\u001b[0;34m)\u001b[0m\u001b[0;34m)\u001b[0m\u001b[0;34m\u001b[0m\u001b[0;34m\u001b[0m\u001b[0m\n\u001b[0;32m---> 75\u001b[0;31m         \u001b[0mself\u001b[0m\u001b[0;34m.\u001b[0m\u001b[0m_reader\u001b[0m \u001b[0;34m=\u001b[0m \u001b[0mparsers\u001b[0m\u001b[0;34m.\u001b[0m\u001b[0mTextReader\u001b[0m\u001b[0;34m(\u001b[0m\u001b[0msrc\u001b[0m\u001b[0;34m,\u001b[0m \u001b[0;34m**\u001b[0m\u001b[0mkwds\u001b[0m\u001b[0;34m)\u001b[0m\u001b[0;34m\u001b[0m\u001b[0;34m\u001b[0m\u001b[0m\n\u001b[0m\u001b[1;32m     76\u001b[0m \u001b[0;34m\u001b[0m\u001b[0m\n\u001b[1;32m     77\u001b[0m         \u001b[0mself\u001b[0m\u001b[0;34m.\u001b[0m\u001b[0munnamed_cols\u001b[0m \u001b[0;34m=\u001b[0m \u001b[0mself\u001b[0m\u001b[0;34m.\u001b[0m\u001b[0m_reader\u001b[0m\u001b[0;34m.\u001b[0m\u001b[0munnamed_cols\u001b[0m\u001b[0;34m\u001b[0m\u001b[0;34m\u001b[0m\u001b[0m\n",
      "\u001b[0;32m~/opt/anaconda3/lib/python3.9/site-packages/pandas/_libs/parsers.pyx\u001b[0m in \u001b[0;36mpandas._libs.parsers.TextReader.__cinit__\u001b[0;34m()\u001b[0m\n",
      "\u001b[0;32m~/opt/anaconda3/lib/python3.9/site-packages/pandas/_libs/parsers.pyx\u001b[0m in \u001b[0;36mpandas._libs.parsers.TextReader._get_header\u001b[0;34m()\u001b[0m\n",
      "\u001b[0;32m~/opt/anaconda3/lib/python3.9/site-packages/pandas/_libs/parsers.pyx\u001b[0m in \u001b[0;36mpandas._libs.parsers.TextReader._tokenize_rows\u001b[0;34m()\u001b[0m\n",
      "\u001b[0;32m~/opt/anaconda3/lib/python3.9/site-packages/pandas/_libs/parsers.pyx\u001b[0m in \u001b[0;36mpandas._libs.parsers.raise_parser_error\u001b[0;34m()\u001b[0m\n",
      "\u001b[0;31mTimeoutError\u001b[0m: [Errno 60] Operation timed out"
     ]
    }
   ],
   "source": [
    "data=pd.read_csv('spam.csv')\n",
    "data"
   ]
  },
  {
   "cell_type": "code",
   "execution_count": 15,
   "id": "integrated-knowing",
   "metadata": {
    "papermill": {
     "duration": 0.025771,
     "end_time": "2022-10-26T16:38:28.919000",
     "exception": false,
     "start_time": "2022-10-26T16:38:28.893229",
     "status": "completed"
    },
    "tags": []
   },
   "outputs": [
    {
     "ename": "NameError",
     "evalue": "name 'data' is not defined",
     "output_type": "error",
     "traceback": [
      "\u001b[0;31m---------------------------------------------------------------------------\u001b[0m",
      "\u001b[0;31mNameError\u001b[0m                                 Traceback (most recent call last)",
      "\u001b[0;32m/var/folders/6q/qvt06fd500z0bckj3fr_3y980000gn/T/ipykernel_90736/2295596747.py\u001b[0m in \u001b[0;36m<module>\u001b[0;34m\u001b[0m\n\u001b[0;32m----> 1\u001b[0;31m \u001b[0mdata\u001b[0m\u001b[0;34m.\u001b[0m\u001b[0mcolumns\u001b[0m\u001b[0;34m\u001b[0m\u001b[0;34m\u001b[0m\u001b[0m\n\u001b[0m",
      "\u001b[0;31mNameError\u001b[0m: name 'data' is not defined"
     ]
    }
   ],
   "source": [
    "data.columns"
   ]
  },
  {
   "cell_type": "code",
   "execution_count": 7,
   "id": "romantic-lafayette",
   "metadata": {
    "papermill": {
     "duration": 0.039468,
     "end_time": "2022-10-26T16:38:28.974039",
     "exception": false,
     "start_time": "2022-10-26T16:38:28.934571",
     "status": "completed"
    },
    "tags": []
   },
   "outputs": [
    {
     "ename": "NameError",
     "evalue": "name 'data' is not defined",
     "output_type": "error",
     "traceback": [
      "\u001b[0;31m---------------------------------------------------------------------------\u001b[0m",
      "\u001b[0;31mNameError\u001b[0m                                 Traceback (most recent call last)",
      "\u001b[0;32m/var/folders/6q/qvt06fd500z0bckj3fr_3y980000gn/T/ipykernel_90736/169168403.py\u001b[0m in \u001b[0;36m<module>\u001b[0;34m\u001b[0m\n\u001b[0;32m----> 1\u001b[0;31m \u001b[0mdata\u001b[0m\u001b[0;34m.\u001b[0m\u001b[0minfo\u001b[0m\u001b[0;34m(\u001b[0m\u001b[0;34m)\u001b[0m\u001b[0;34m\u001b[0m\u001b[0;34m\u001b[0m\u001b[0m\n\u001b[0m",
      "\u001b[0;31mNameError\u001b[0m: name 'data' is not defined"
     ]
    }
   ],
   "source": [
    "data.info()"
   ]
  },
  {
   "cell_type": "markdown",
   "id": "confirmed-importance",
   "metadata": {
    "papermill": {
     "duration": 0.01526,
     "end_time": "2022-10-26T16:38:29.005662",
     "exception": false,
     "start_time": "2022-10-26T16:38:28.990402",
     "status": "completed"
    },
    "tags": []
   },
   "source": [
    "**Dropped The Column Unnamed: 0**"
   ]
  },
  {
   "cell_type": "code",
   "execution_count": 5,
   "id": "surprised-hamilton",
   "metadata": {
    "execution": {
     "iopub.execute_input": "2022-10-26T16:38:29.047415Z",
     "iopub.status.busy": "2022-10-26T16:38:29.046483Z",
     "iopub.status.idle": "2022-10-26T16:38:29.049935Z",
     "shell.execute_reply": "2022-10-26T16:38:29.050475Z",
     "shell.execute_reply.started": "2021-06-21T08:27:21.0495Z"
    },
    "papermill": {
     "duration": 0.029078,
     "end_time": "2022-10-26T16:38:29.050683",
     "exception": false,
     "start_time": "2022-10-26T16:38:29.021605",
     "status": "completed"
    },
    "tags": []
   },
   "outputs": [
    {
     "data": {
      "text/plain": [
       "Category    0\n",
       "Message     0\n",
       "dtype: int64"
      ]
     },
     "execution_count": 5,
     "metadata": {},
     "output_type": "execute_result"
    }
   ],
   "source": [
    "data.isna().sum()"
   ]
  },
  {
   "cell_type": "code",
   "execution_count": 6,
   "id": "adolescent-species",
   "metadata": {
    "execution": {
     "iopub.execute_input": "2022-10-26T16:38:29.098448Z",
     "iopub.status.busy": "2022-10-26T16:38:29.097330Z",
     "iopub.status.idle": "2022-10-26T16:38:29.101439Z",
     "shell.execute_reply": "2022-10-26T16:38:29.101899Z",
     "shell.execute_reply.started": "2021-06-21T08:27:21.067038Z"
    },
    "papermill": {
     "duration": 0.035122,
     "end_time": "2022-10-26T16:38:29.102118",
     "exception": false,
     "start_time": "2022-10-26T16:38:29.066996",
     "status": "completed"
    },
    "tags": []
   },
   "outputs": [
    {
     "data": {
      "text/html": [
       "<div>\n",
       "<style scoped>\n",
       "    .dataframe tbody tr th:only-of-type {\n",
       "        vertical-align: middle;\n",
       "    }\n",
       "\n",
       "    .dataframe tbody tr th {\n",
       "        vertical-align: top;\n",
       "    }\n",
       "\n",
       "    .dataframe thead th {\n",
       "        text-align: right;\n",
       "    }\n",
       "</style>\n",
       "<table border=\"1\" class=\"dataframe\">\n",
       "  <thead>\n",
       "    <tr style=\"text-align: right;\">\n",
       "      <th></th>\n",
       "      <th>Category</th>\n",
       "      <th>Message</th>\n",
       "      <th>Spam</th>\n",
       "    </tr>\n",
       "  </thead>\n",
       "  <tbody>\n",
       "    <tr>\n",
       "      <th>0</th>\n",
       "      <td>ham</td>\n",
       "      <td>Go until jurong point, crazy.. Available only ...</td>\n",
       "      <td>0</td>\n",
       "    </tr>\n",
       "    <tr>\n",
       "      <th>1</th>\n",
       "      <td>ham</td>\n",
       "      <td>Ok lar... Joking wif u oni...</td>\n",
       "      <td>0</td>\n",
       "    </tr>\n",
       "    <tr>\n",
       "      <th>2</th>\n",
       "      <td>spam</td>\n",
       "      <td>Free entry in 2 a wkly comp to win FA Cup fina...</td>\n",
       "      <td>1</td>\n",
       "    </tr>\n",
       "    <tr>\n",
       "      <th>3</th>\n",
       "      <td>ham</td>\n",
       "      <td>U dun say so early hor... U c already then say...</td>\n",
       "      <td>0</td>\n",
       "    </tr>\n",
       "    <tr>\n",
       "      <th>4</th>\n",
       "      <td>ham</td>\n",
       "      <td>Nah I don't think he goes to usf, he lives aro...</td>\n",
       "      <td>0</td>\n",
       "    </tr>\n",
       "  </tbody>\n",
       "</table>\n",
       "</div>"
      ],
      "text/plain": [
       "  Category                                            Message  Spam\n",
       "0      ham  Go until jurong point, crazy.. Available only ...     0\n",
       "1      ham                      Ok lar... Joking wif u oni...     0\n",
       "2     spam  Free entry in 2 a wkly comp to win FA Cup fina...     1\n",
       "3      ham  U dun say so early hor... U c already then say...     0\n",
       "4      ham  Nah I don't think he goes to usf, he lives aro...     0"
      ]
     },
     "execution_count": 6,
     "metadata": {},
     "output_type": "execute_result"
    }
   ],
   "source": [
    "data['Spam']=data['Category'].apply(lambda x:1 if x=='spam' else 0)\n",
    "data.head(5)"
   ]
  },
  {
   "cell_type": "code",
   "execution_count": 7,
   "id": "obvious-grass",
   "metadata": {
    "execution": {
     "iopub.execute_input": "2022-10-26T16:38:29.141359Z",
     "iopub.status.busy": "2022-10-26T16:38:29.140556Z",
     "iopub.status.idle": "2022-10-26T16:38:30.092429Z",
     "shell.execute_reply": "2022-10-26T16:38:30.091630Z",
     "shell.execute_reply.started": "2021-06-21T08:27:21.089708Z"
    },
    "papermill": {
     "duration": 0.973761,
     "end_time": "2022-10-26T16:38:30.092602",
     "exception": false,
     "start_time": "2022-10-26T16:38:29.118841",
     "status": "completed"
    },
    "tags": []
   },
   "outputs": [],
   "source": [
    "from sklearn.model_selection import train_test_split\n",
    "X_train,X_test,y_train,y_test=train_test_split(data.Message,data.Spam,test_size=0.25)"
   ]
  },
  {
   "cell_type": "code",
   "execution_count": 8,
   "id": "contemporary-psychiatry",
   "metadata": {
    "execution": {
     "iopub.execute_input": "2022-10-26T16:38:30.131644Z",
     "iopub.status.busy": "2022-10-26T16:38:30.130629Z",
     "iopub.status.idle": "2022-10-26T16:38:30.146892Z",
     "shell.execute_reply": "2022-10-26T16:38:30.147504Z",
     "shell.execute_reply.started": "2021-06-21T08:27:21.101454Z"
    },
    "papermill": {
     "duration": 0.038308,
     "end_time": "2022-10-26T16:38:30.147722",
     "exception": false,
     "start_time": "2022-10-26T16:38:30.109414",
     "status": "completed"
    },
    "tags": []
   },
   "outputs": [],
   "source": [
    "#CounterVectorizer Convert the text into matrics\n",
    "from sklearn.feature_extraction.text import CountVectorizer"
   ]
  },
  {
   "cell_type": "markdown",
   "id": "threatened-locking",
   "metadata": {
    "papermill": {
     "duration": 0.016064,
     "end_time": "2022-10-26T16:38:30.180686",
     "exception": false,
     "start_time": "2022-10-26T16:38:30.164622",
     "status": "completed"
    },
    "tags": []
   },
   "source": [
    "**Naive Bayes Have three Classifier(Bernouli,Multinominal,Gaussian)\n",
    "Here I use Multinominal Bayes Because here data in a discrete form \n",
    "discrete data(e.g movie ratings ranging  1 to 5 as each rating will have certain frequency to represent)**"
   ]
  },
  {
   "cell_type": "code",
   "execution_count": 9,
   "id": "funny-reservoir",
   "metadata": {
    "execution": {
     "iopub.execute_input": "2022-10-26T16:38:30.216889Z",
     "iopub.status.busy": "2022-10-26T16:38:30.216251Z",
     "iopub.status.idle": "2022-10-26T16:38:30.223315Z",
     "shell.execute_reply": "2022-10-26T16:38:30.223869Z",
     "shell.execute_reply.started": "2021-06-21T08:27:21.127559Z"
    },
    "papermill": {
     "duration": 0.027005,
     "end_time": "2022-10-26T16:38:30.224093",
     "exception": false,
     "start_time": "2022-10-26T16:38:30.197088",
     "status": "completed"
    },
    "tags": []
   },
   "outputs": [],
   "source": [
    "from sklearn.naive_bayes import MultinomialNB"
   ]
  },
  {
   "cell_type": "code",
   "execution_count": 10,
   "id": "divine-center",
   "metadata": {
    "execution": {
     "iopub.execute_input": "2022-10-26T16:38:30.260515Z",
     "iopub.status.busy": "2022-10-26T16:38:30.259858Z",
     "iopub.status.idle": "2022-10-26T16:38:30.266876Z",
     "shell.execute_reply": "2022-10-26T16:38:30.267413Z",
     "shell.execute_reply.started": "2021-06-21T08:27:21.137008Z"
    },
    "papermill": {
     "duration": 0.027078,
     "end_time": "2022-10-26T16:38:30.267625",
     "exception": false,
     "start_time": "2022-10-26T16:38:30.240547",
     "status": "completed"
    },
    "tags": []
   },
   "outputs": [],
   "source": [
    "from sklearn.pipeline import Pipeline\n",
    "clf=Pipeline([\n",
    "    ('vectorizer',CountVectorizer()),\n",
    "    ('nb',MultinomialNB())\n",
    "])"
   ]
  },
  {
   "cell_type": "markdown",
   "id": "sealed-peter",
   "metadata": {
    "papermill": {
     "duration": 0.01623,
     "end_time": "2022-10-26T16:38:30.300585",
     "exception": false,
     "start_time": "2022-10-26T16:38:30.284355",
     "status": "completed"
    },
    "tags": []
   },
   "source": [
    "# Tarining The Model"
   ]
  },
  {
   "cell_type": "code",
   "execution_count": 11,
   "id": "renewable-inquiry",
   "metadata": {
    "execution": {
     "iopub.execute_input": "2022-10-26T16:38:30.336871Z",
     "iopub.status.busy": "2022-10-26T16:38:30.336225Z",
     "iopub.status.idle": "2022-10-26T16:38:30.436137Z",
     "shell.execute_reply": "2022-10-26T16:38:30.436641Z",
     "shell.execute_reply.started": "2021-06-21T08:27:21.154277Z"
    },
    "papermill": {
     "duration": 0.119809,
     "end_time": "2022-10-26T16:38:30.436860",
     "exception": false,
     "start_time": "2022-10-26T16:38:30.317051",
     "status": "completed"
    },
    "tags": []
   },
   "outputs": [
    {
     "data": {
      "text/plain": [
       "Pipeline(steps=[('vectorizer', CountVectorizer()), ('nb', MultinomialNB())])"
      ]
     },
     "execution_count": 11,
     "metadata": {},
     "output_type": "execute_result"
    }
   ],
   "source": [
    "clf.fit(X_train,y_train)"
   ]
  },
  {
   "cell_type": "markdown",
   "id": "agricultural-violation",
   "metadata": {
    "papermill": {
     "duration": 0.017191,
     "end_time": "2022-10-26T16:38:30.471262",
     "exception": false,
     "start_time": "2022-10-26T16:38:30.454071",
     "status": "completed"
    },
    "tags": []
   },
   "source": [
    "**Here I given Two email Two detect 1st One is looking good and the other one looking spam**"
   ]
  },
  {
   "cell_type": "code",
   "execution_count": 12,
   "id": "ranking-radio",
   "metadata": {
    "execution": {
     "iopub.execute_input": "2022-10-26T16:38:30.508614Z",
     "iopub.status.busy": "2022-10-26T16:38:30.507888Z",
     "iopub.status.idle": "2022-10-26T16:38:30.511224Z",
     "shell.execute_reply": "2022-10-26T16:38:30.511715Z",
     "shell.execute_reply.started": "2021-06-21T08:27:21.253141Z"
    },
    "papermill": {
     "duration": 0.023755,
     "end_time": "2022-10-26T16:38:30.511903",
     "exception": false,
     "start_time": "2022-10-26T16:38:30.488148",
     "status": "completed"
    },
    "tags": []
   },
   "outputs": [],
   "source": [
    "emails=[\n",
    "    'Sounds great! Are you home now?',\n",
    "    'Will u meet ur dream partner soon? Is ur career off 2 a flyng start? 2 find out free, txt HORO followed by ur star sign, e. g. HORO ARIES'\n",
    "]"
   ]
  },
  {
   "cell_type": "markdown",
   "id": "broad-baptist",
   "metadata": {
    "papermill": {
     "duration": 0.016586,
     "end_time": "2022-10-26T16:38:30.545982",
     "exception": false,
     "start_time": "2022-10-26T16:38:30.529396",
     "status": "completed"
    },
    "tags": []
   },
   "source": [
    "**Predict Email**"
   ]
  },
  {
   "cell_type": "code",
   "execution_count": 13,
   "id": "czech-symphony",
   "metadata": {
    "execution": {
     "iopub.execute_input": "2022-10-26T16:38:30.586813Z",
     "iopub.status.busy": "2022-10-26T16:38:30.585918Z",
     "iopub.status.idle": "2022-10-26T16:38:30.590132Z",
     "shell.execute_reply": "2022-10-26T16:38:30.589503Z",
     "shell.execute_reply.started": "2021-06-21T08:27:21.260501Z"
    },
    "papermill": {
     "duration": 0.027069,
     "end_time": "2022-10-26T16:38:30.590324",
     "exception": false,
     "start_time": "2022-10-26T16:38:30.563255",
     "status": "completed"
    },
    "tags": []
   },
   "outputs": [
    {
     "data": {
      "text/plain": [
       "array([0, 1])"
      ]
     },
     "execution_count": 13,
     "metadata": {},
     "output_type": "execute_result"
    }
   ],
   "source": [
    "clf.predict(emails)"
   ]
  },
  {
   "cell_type": "markdown",
   "id": "economic-program",
   "metadata": {
    "papermill": {
     "duration": 0.01672,
     "end_time": "2022-10-26T16:38:30.625156",
     "exception": false,
     "start_time": "2022-10-26T16:38:30.608436",
     "status": "completed"
    },
    "tags": []
   },
   "source": [
    "# Prediction Of Model"
   ]
  },
  {
   "cell_type": "code",
   "execution_count": 14,
   "id": "daily-location",
   "metadata": {
    "execution": {
     "iopub.execute_input": "2022-10-26T16:38:30.688345Z",
     "iopub.status.busy": "2022-10-26T16:38:30.687337Z",
     "iopub.status.idle": "2022-10-26T16:38:30.693743Z",
     "shell.execute_reply": "2022-10-26T16:38:30.693151Z",
     "shell.execute_reply.started": "2021-06-21T08:27:21.274113Z"
    },
    "papermill": {
     "duration": 0.05098,
     "end_time": "2022-10-26T16:38:30.693900",
     "exception": false,
     "start_time": "2022-10-26T16:38:30.642920",
     "status": "completed"
    },
    "tags": []
   },
   "outputs": [
    {
     "data": {
      "text/plain": [
       "0.9777458722182341"
      ]
     },
     "execution_count": 14,
     "metadata": {},
     "output_type": "execute_result"
    }
   ],
   "source": [
    "clf.score(X_test,y_test)"
   ]
  }
 ],
 "metadata": {
  "kernelspec": {
   "display_name": "Python 3 (ipykernel)",
   "language": "python",
   "name": "python3"
  },
  "language_info": {
   "codemirror_mode": {
    "name": "ipython",
    "version": 3
   },
   "file_extension": ".py",
   "mimetype": "text/x-python",
   "name": "python",
   "nbconvert_exporter": "python",
   "pygments_lexer": "ipython3",
   "version": "3.9.13"
  },
  "papermill": {
   "default_parameters": {},
   "duration": 10.847266,
   "end_time": "2022-10-26T16:38:31.523672",
   "environment_variables": {},
   "exception": null,
   "input_path": "__notebook__.ipynb",
   "output_path": "__notebook__.ipynb",
   "parameters": {},
   "start_time": "2022-10-26T16:38:20.676406",
   "version": "2.3.3"
  }
 },
 "nbformat": 4,
 "nbformat_minor": 5
}
