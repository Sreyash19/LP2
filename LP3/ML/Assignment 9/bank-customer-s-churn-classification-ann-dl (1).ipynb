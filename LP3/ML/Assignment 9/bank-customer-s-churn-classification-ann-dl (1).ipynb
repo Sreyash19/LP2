{
 "cells": [
  {
   "cell_type": "code",
   "execution_count": 1,
   "id": "veterinary-wyoming",
   "metadata": {
    "execution": {
     "iopub.execute_input": "2021-06-11T12:38:18.927593Z",
     "iopub.status.busy": "2021-06-11T12:38:18.926921Z",
     "iopub.status.idle": "2021-06-11T12:38:18.929876Z",
     "shell.execute_reply": "2021-06-11T12:38:18.930296Z",
     "shell.execute_reply.started": "2021-06-11T11:15:44.789103Z"
    },
    "id": "MPoJdCbeKX7f",
    "papermill": {
     "duration": 0.044711,
     "end_time": "2021-06-11T12:38:18.930502",
     "exception": false,
     "start_time": "2021-06-11T12:38:18.885791",
     "status": "completed"
    },
    "tags": []
   },
   "outputs": [],
   "source": [
    "import numpy as np\n",
    "import pandas as pd"
   ]
  },
  {
   "cell_type": "code",
   "execution_count": 2,
   "id": "stainless-stockholm",
   "metadata": {
    "execution": {
     "iopub.execute_input": "2021-06-11T12:38:19.064830Z",
     "iopub.status.busy": "2021-06-11T12:38:19.064338Z",
     "iopub.status.idle": "2021-06-11T12:38:19.095148Z",
     "shell.execute_reply": "2021-06-11T12:38:19.094720Z",
     "shell.execute_reply.started": "2021-06-11T11:15:44.808317Z"
    },
    "id": "UJJ6T8LoLHQK",
    "papermill": {
     "duration": 0.070178,
     "end_time": "2021-06-11T12:38:19.095258",
     "exception": false,
     "start_time": "2021-06-11T12:38:19.025080",
     "status": "completed"
    },
    "tags": []
   },
   "outputs": [],
   "source": [
    "df = pd.read_csv(\"Churn_Modelling.csv\")"
   ]
  },
  {
   "cell_type": "code",
   "execution_count": 3,
   "id": "numeric-mouse",
   "metadata": {
    "execution": {
     "iopub.execute_input": "2021-06-11T12:38:19.227705Z",
     "iopub.status.busy": "2021-06-11T12:38:19.227046Z",
     "iopub.status.idle": "2021-06-11T12:38:19.230046Z",
     "shell.execute_reply": "2021-06-11T12:38:19.230444Z",
     "shell.execute_reply.started": "2021-06-11T11:15:44.853965Z"
    },
    "id": "jywL9F9_LTjh",
    "outputId": "bdf60c39-6fe0-4d94-f2d7-a50d24c87f6d",
    "papermill": {
     "duration": 0.039488,
     "end_time": "2021-06-11T12:38:19.230560",
     "exception": false,
     "start_time": "2021-06-11T12:38:19.191072",
     "status": "completed"
    },
    "tags": []
   },
   "outputs": [
    {
     "data": {
      "text/plain": [
       "(10000, 14)"
      ]
     },
     "execution_count": 3,
     "metadata": {},
     "output_type": "execute_result"
    }
   ],
   "source": [
    "df.shape"
   ]
  },
  {
   "cell_type": "code",
   "execution_count": 4,
   "id": "induced-morrison",
   "metadata": {
    "execution": {
     "iopub.execute_input": "2021-06-11T12:38:19.297882Z",
     "iopub.status.busy": "2021-06-11T12:38:19.297174Z",
     "iopub.status.idle": "2021-06-11T12:38:19.300799Z",
     "shell.execute_reply": "2021-06-11T12:38:19.300387Z",
     "shell.execute_reply.started": "2021-06-11T11:15:44.863415Z"
    },
    "id": "YN7vU6m-LZoI",
    "outputId": "59ba82d2-ca25-484d-e42b-edad49b1179e",
    "papermill": {
     "duration": 0.038762,
     "end_time": "2021-06-11T12:38:19.300899",
     "exception": false,
     "start_time": "2021-06-11T12:38:19.262137",
     "status": "completed"
    },
    "tags": []
   },
   "outputs": [
    {
     "data": {
      "text/plain": [
       "Index(['RowNumber', 'CustomerId', 'Surname', 'CreditScore', 'Geography',\n",
       "       'Gender', 'Age', 'Tenure', 'Balance', 'NumOfProducts', 'HasCrCard',\n",
       "       'IsActiveMember', 'EstimatedSalary', 'Exited'],\n",
       "      dtype='object')"
      ]
     },
     "execution_count": 4,
     "metadata": {},
     "output_type": "execute_result"
    }
   ],
   "source": [
    "df.columns"
   ]
  },
  {
   "cell_type": "code",
   "execution_count": 5,
   "id": "ahead-whale",
   "metadata": {
    "execution": {
     "iopub.execute_input": "2021-06-11T12:38:19.375993Z",
     "iopub.status.busy": "2021-06-11T12:38:19.375326Z",
     "iopub.status.idle": "2021-06-11T12:38:19.378652Z",
     "shell.execute_reply": "2021-06-11T12:38:19.378169Z",
     "shell.execute_reply.started": "2021-06-11T11:15:44.872708Z"
    },
    "id": "b_I7URDSLbBJ",
    "outputId": "496af466-e75d-4f8e-8374-abaa71353515",
    "papermill": {
     "duration": 0.045369,
     "end_time": "2021-06-11T12:38:19.378748",
     "exception": false,
     "start_time": "2021-06-11T12:38:19.333379",
     "status": "completed"
    },
    "tags": []
   },
   "outputs": [
    {
     "data": {
      "text/plain": [
       "RowNumber            int64\n",
       "CustomerId           int64\n",
       "Surname             object\n",
       "CreditScore          int64\n",
       "Geography           object\n",
       "Gender              object\n",
       "Age                  int64\n",
       "Tenure               int64\n",
       "Balance            float64\n",
       "NumOfProducts        int64\n",
       "HasCrCard            int64\n",
       "IsActiveMember       int64\n",
       "EstimatedSalary    float64\n",
       "Exited               int64\n",
       "dtype: object"
      ]
     },
     "execution_count": 5,
     "metadata": {},
     "output_type": "execute_result"
    }
   ],
   "source": [
    "df.dtypes"
   ]
  },
  {
   "cell_type": "code",
   "execution_count": 6,
   "id": "graduate-companion",
   "metadata": {
    "execution": {
     "iopub.execute_input": "2021-06-11T12:38:19.451169Z",
     "iopub.status.busy": "2021-06-11T12:38:19.450401Z",
     "iopub.status.idle": "2021-06-11T12:38:19.460509Z",
     "shell.execute_reply": "2021-06-11T12:38:19.460124Z",
     "shell.execute_reply.started": "2021-06-11T11:15:44.886549Z"
    },
    "id": "TwYKW4CVLgtJ",
    "outputId": "cda3fae4-8c6c-4aec-e0f3-390da82d65f9",
    "papermill": {
     "duration": 0.049871,
     "end_time": "2021-06-11T12:38:19.460607",
     "exception": false,
     "start_time": "2021-06-11T12:38:19.410736",
     "status": "completed"
    },
    "tags": []
   },
   "outputs": [
    {
     "data": {
      "text/html": [
       "<div>\n",
       "<style scoped>\n",
       "    .dataframe tbody tr th:only-of-type {\n",
       "        vertical-align: middle;\n",
       "    }\n",
       "\n",
       "    .dataframe tbody tr th {\n",
       "        vertical-align: top;\n",
       "    }\n",
       "\n",
       "    .dataframe thead th {\n",
       "        text-align: right;\n",
       "    }\n",
       "</style>\n",
       "<table border=\"1\" class=\"dataframe\">\n",
       "  <thead>\n",
       "    <tr style=\"text-align: right;\">\n",
       "      <th></th>\n",
       "      <th>RowNumber</th>\n",
       "      <th>CustomerId</th>\n",
       "      <th>Surname</th>\n",
       "      <th>CreditScore</th>\n",
       "      <th>Geography</th>\n",
       "      <th>Gender</th>\n",
       "      <th>Age</th>\n",
       "      <th>Tenure</th>\n",
       "      <th>Balance</th>\n",
       "      <th>NumOfProducts</th>\n",
       "      <th>HasCrCard</th>\n",
       "      <th>IsActiveMember</th>\n",
       "      <th>EstimatedSalary</th>\n",
       "      <th>Exited</th>\n",
       "    </tr>\n",
       "  </thead>\n",
       "  <tbody>\n",
       "    <tr>\n",
       "      <th>0</th>\n",
       "      <td>1</td>\n",
       "      <td>15634602</td>\n",
       "      <td>Hargrave</td>\n",
       "      <td>619</td>\n",
       "      <td>France</td>\n",
       "      <td>Female</td>\n",
       "      <td>42</td>\n",
       "      <td>2</td>\n",
       "      <td>0.00</td>\n",
       "      <td>1</td>\n",
       "      <td>1</td>\n",
       "      <td>1</td>\n",
       "      <td>101348.88</td>\n",
       "      <td>1</td>\n",
       "    </tr>\n",
       "    <tr>\n",
       "      <th>1</th>\n",
       "      <td>2</td>\n",
       "      <td>15647311</td>\n",
       "      <td>Hill</td>\n",
       "      <td>608</td>\n",
       "      <td>Spain</td>\n",
       "      <td>Female</td>\n",
       "      <td>41</td>\n",
       "      <td>1</td>\n",
       "      <td>83807.86</td>\n",
       "      <td>1</td>\n",
       "      <td>0</td>\n",
       "      <td>1</td>\n",
       "      <td>112542.58</td>\n",
       "      <td>0</td>\n",
       "    </tr>\n",
       "    <tr>\n",
       "      <th>2</th>\n",
       "      <td>3</td>\n",
       "      <td>15619304</td>\n",
       "      <td>Onio</td>\n",
       "      <td>502</td>\n",
       "      <td>France</td>\n",
       "      <td>Female</td>\n",
       "      <td>42</td>\n",
       "      <td>8</td>\n",
       "      <td>159660.80</td>\n",
       "      <td>3</td>\n",
       "      <td>1</td>\n",
       "      <td>0</td>\n",
       "      <td>113931.57</td>\n",
       "      <td>1</td>\n",
       "    </tr>\n",
       "    <tr>\n",
       "      <th>3</th>\n",
       "      <td>4</td>\n",
       "      <td>15701354</td>\n",
       "      <td>Boni</td>\n",
       "      <td>699</td>\n",
       "      <td>France</td>\n",
       "      <td>Female</td>\n",
       "      <td>39</td>\n",
       "      <td>1</td>\n",
       "      <td>0.00</td>\n",
       "      <td>2</td>\n",
       "      <td>0</td>\n",
       "      <td>0</td>\n",
       "      <td>93826.63</td>\n",
       "      <td>0</td>\n",
       "    </tr>\n",
       "    <tr>\n",
       "      <th>4</th>\n",
       "      <td>5</td>\n",
       "      <td>15737888</td>\n",
       "      <td>Mitchell</td>\n",
       "      <td>850</td>\n",
       "      <td>Spain</td>\n",
       "      <td>Female</td>\n",
       "      <td>43</td>\n",
       "      <td>2</td>\n",
       "      <td>125510.82</td>\n",
       "      <td>1</td>\n",
       "      <td>1</td>\n",
       "      <td>1</td>\n",
       "      <td>79084.10</td>\n",
       "      <td>0</td>\n",
       "    </tr>\n",
       "  </tbody>\n",
       "</table>\n",
       "</div>"
      ],
      "text/plain": [
       "   RowNumber  CustomerId   Surname  CreditScore Geography  Gender  Age  \\\n",
       "0          1    15634602  Hargrave          619    France  Female   42   \n",
       "1          2    15647311      Hill          608     Spain  Female   41   \n",
       "2          3    15619304      Onio          502    France  Female   42   \n",
       "3          4    15701354      Boni          699    France  Female   39   \n",
       "4          5    15737888  Mitchell          850     Spain  Female   43   \n",
       "\n",
       "   Tenure    Balance  NumOfProducts  HasCrCard  IsActiveMember  \\\n",
       "0       2       0.00              1          1               1   \n",
       "1       1   83807.86              1          0               1   \n",
       "2       8  159660.80              3          1               0   \n",
       "3       1       0.00              2          0               0   \n",
       "4       2  125510.82              1          1               1   \n",
       "\n",
       "   EstimatedSalary  Exited  \n",
       "0        101348.88       1  \n",
       "1        112542.58       0  \n",
       "2        113931.57       1  \n",
       "3         93826.63       0  \n",
       "4         79084.10       0  "
      ]
     },
     "execution_count": 6,
     "metadata": {},
     "output_type": "execute_result"
    }
   ],
   "source": [
    "df.head()"
   ]
  },
  {
   "cell_type": "code",
   "execution_count": 7,
   "id": "hollow-rates",
   "metadata": {
    "execution": {
     "iopub.execute_input": "2021-06-11T12:38:19.533444Z",
     "iopub.status.busy": "2021-06-11T12:38:19.532685Z",
     "iopub.status.idle": "2021-06-11T12:38:19.541873Z",
     "shell.execute_reply": "2021-06-11T12:38:19.541481Z",
     "shell.execute_reply.started": "2021-06-11T11:15:44.907387Z"
    },
    "id": "QPYQ66BTMjDj",
    "outputId": "256cb873-6875-437d-d273-47ead2a3f2b3",
    "papermill": {
     "duration": 0.048411,
     "end_time": "2021-06-11T12:38:19.541972",
     "exception": false,
     "start_time": "2021-06-11T12:38:19.493561",
     "status": "completed"
    },
    "tags": []
   },
   "outputs": [
    {
     "data": {
      "text/html": [
       "<div>\n",
       "<style scoped>\n",
       "    .dataframe tbody tr th:only-of-type {\n",
       "        vertical-align: middle;\n",
       "    }\n",
       "\n",
       "    .dataframe tbody tr th {\n",
       "        vertical-align: top;\n",
       "    }\n",
       "\n",
       "    .dataframe thead th {\n",
       "        text-align: right;\n",
       "    }\n",
       "</style>\n",
       "<table border=\"1\" class=\"dataframe\">\n",
       "  <thead>\n",
       "    <tr style=\"text-align: right;\">\n",
       "      <th></th>\n",
       "      <th>RowNumber</th>\n",
       "      <th>CustomerId</th>\n",
       "      <th>Surname</th>\n",
       "      <th>CreditScore</th>\n",
       "      <th>Geography</th>\n",
       "      <th>Gender</th>\n",
       "      <th>Age</th>\n",
       "      <th>Tenure</th>\n",
       "      <th>Balance</th>\n",
       "      <th>NumOfProducts</th>\n",
       "      <th>HasCrCard</th>\n",
       "      <th>IsActiveMember</th>\n",
       "      <th>EstimatedSalary</th>\n",
       "      <th>Exited</th>\n",
       "    </tr>\n",
       "  </thead>\n",
       "  <tbody>\n",
       "    <tr>\n",
       "      <th>9995</th>\n",
       "      <td>9996</td>\n",
       "      <td>15606229</td>\n",
       "      <td>Obijiaku</td>\n",
       "      <td>771</td>\n",
       "      <td>France</td>\n",
       "      <td>Male</td>\n",
       "      <td>39</td>\n",
       "      <td>5</td>\n",
       "      <td>0.00</td>\n",
       "      <td>2</td>\n",
       "      <td>1</td>\n",
       "      <td>0</td>\n",
       "      <td>96270.64</td>\n",
       "      <td>0</td>\n",
       "    </tr>\n",
       "    <tr>\n",
       "      <th>9996</th>\n",
       "      <td>9997</td>\n",
       "      <td>15569892</td>\n",
       "      <td>Johnstone</td>\n",
       "      <td>516</td>\n",
       "      <td>France</td>\n",
       "      <td>Male</td>\n",
       "      <td>35</td>\n",
       "      <td>10</td>\n",
       "      <td>57369.61</td>\n",
       "      <td>1</td>\n",
       "      <td>1</td>\n",
       "      <td>1</td>\n",
       "      <td>101699.77</td>\n",
       "      <td>0</td>\n",
       "    </tr>\n",
       "    <tr>\n",
       "      <th>9997</th>\n",
       "      <td>9998</td>\n",
       "      <td>15584532</td>\n",
       "      <td>Liu</td>\n",
       "      <td>709</td>\n",
       "      <td>France</td>\n",
       "      <td>Female</td>\n",
       "      <td>36</td>\n",
       "      <td>7</td>\n",
       "      <td>0.00</td>\n",
       "      <td>1</td>\n",
       "      <td>0</td>\n",
       "      <td>1</td>\n",
       "      <td>42085.58</td>\n",
       "      <td>1</td>\n",
       "    </tr>\n",
       "    <tr>\n",
       "      <th>9998</th>\n",
       "      <td>9999</td>\n",
       "      <td>15682355</td>\n",
       "      <td>Sabbatini</td>\n",
       "      <td>772</td>\n",
       "      <td>Germany</td>\n",
       "      <td>Male</td>\n",
       "      <td>42</td>\n",
       "      <td>3</td>\n",
       "      <td>75075.31</td>\n",
       "      <td>2</td>\n",
       "      <td>1</td>\n",
       "      <td>0</td>\n",
       "      <td>92888.52</td>\n",
       "      <td>1</td>\n",
       "    </tr>\n",
       "    <tr>\n",
       "      <th>9999</th>\n",
       "      <td>10000</td>\n",
       "      <td>15628319</td>\n",
       "      <td>Walker</td>\n",
       "      <td>792</td>\n",
       "      <td>France</td>\n",
       "      <td>Female</td>\n",
       "      <td>28</td>\n",
       "      <td>4</td>\n",
       "      <td>130142.79</td>\n",
       "      <td>1</td>\n",
       "      <td>1</td>\n",
       "      <td>0</td>\n",
       "      <td>38190.78</td>\n",
       "      <td>0</td>\n",
       "    </tr>\n",
       "  </tbody>\n",
       "</table>\n",
       "</div>"
      ],
      "text/plain": [
       "      RowNumber  CustomerId    Surname  CreditScore Geography  Gender  Age  \\\n",
       "9995       9996    15606229   Obijiaku          771    France    Male   39   \n",
       "9996       9997    15569892  Johnstone          516    France    Male   35   \n",
       "9997       9998    15584532        Liu          709    France  Female   36   \n",
       "9998       9999    15682355  Sabbatini          772   Germany    Male   42   \n",
       "9999      10000    15628319     Walker          792    France  Female   28   \n",
       "\n",
       "      Tenure    Balance  NumOfProducts  HasCrCard  IsActiveMember  \\\n",
       "9995       5       0.00              2          1               0   \n",
       "9996      10   57369.61              1          1               1   \n",
       "9997       7       0.00              1          0               1   \n",
       "9998       3   75075.31              2          1               0   \n",
       "9999       4  130142.79              1          1               0   \n",
       "\n",
       "      EstimatedSalary  Exited  \n",
       "9995         96270.64       0  \n",
       "9996        101699.77       0  \n",
       "9997         42085.58       1  \n",
       "9998         92888.52       1  \n",
       "9999         38190.78       0  "
      ]
     },
     "execution_count": 7,
     "metadata": {},
     "output_type": "execute_result"
    }
   ],
   "source": [
    "df.tail()"
   ]
  },
  {
   "cell_type": "code",
   "execution_count": 8,
   "id": "million-blame",
   "metadata": {
    "execution": {
     "iopub.execute_input": "2021-06-11T12:38:19.613971Z",
     "iopub.status.busy": "2021-06-11T12:38:19.613446Z",
     "iopub.status.idle": "2021-06-11T12:38:20.317729Z",
     "shell.execute_reply": "2021-06-11T12:38:20.317246Z",
     "shell.execute_reply.started": "2021-06-11T11:15:44.926237Z"
    },
    "id": "4-vi2gc2Ml-x",
    "outputId": "f41c76b1-c2b3-4174-dba7-79dca29ec096",
    "papermill": {
     "duration": 0.741411,
     "end_time": "2021-06-11T12:38:20.317856",
     "exception": false,
     "start_time": "2021-06-11T12:38:19.576445",
     "status": "completed"
    },
    "tags": []
   },
   "outputs": [],
   "source": [
    "# Importing essential libraries for visualizations\n",
    "import matplotlib.pyplot as plt\n",
    "import seaborn as sns\n",
    "%matplotlib inline"
   ]
  },
  {
   "cell_type": "code",
   "execution_count": 9,
   "id": "unlimited-bedroom",
   "metadata": {
    "execution": {
     "iopub.execute_input": "2021-06-11T12:38:20.391846Z",
     "iopub.status.busy": "2021-06-11T12:38:20.391216Z",
     "iopub.status.idle": "2021-06-11T12:38:20.529123Z",
     "shell.execute_reply": "2021-06-11T12:38:20.529494Z",
     "shell.execute_reply.started": "2021-06-11T11:15:45.592553Z"
    },
    "id": "vtDebZ5FMyZQ",
    "outputId": "57ec761a-3b8d-41e9-d04c-a6f7b0d09261",
    "papermill": {
     "duration": 0.178316,
     "end_time": "2021-06-11T12:38:20.529625",
     "exception": false,
     "start_time": "2021-06-11T12:38:20.351309",
     "status": "completed"
    },
    "tags": []
   },
   "outputs": [
    {
     "data": {
      "image/png": "[encoded data removed]",
      "text/plain": [
       "<Figure size 576x576 with 1 Axes>"
      ]
     },
     "metadata": {
      "needs_background": "light"
     },
     "output_type": "display_data"
    }
   ],
   "source": [
    "# Visualizing the count of 'exited customers' in the dataset\n",
    "plt.figure(figsize=(8,8))\n",
    "sns.countplot(x='Exited', data=df)\n",
    "plt.xlabel('0: Customers still with the bank, 1: Customers exited the bank')\n",
    "plt.ylabel('Count')\n",
    "plt.title('Bank Customers Churn Visualization')\n",
    "plt.show()"
   ]
  },
  {
   "cell_type": "code",
   "execution_count": 10,
   "id": "independent-audit",
   "metadata": {
    "execution": {
     "iopub.execute_input": "2021-06-11T12:38:20.604100Z",
     "iopub.status.busy": "2021-06-11T12:38:20.603309Z",
     "iopub.status.idle": "2021-06-11T12:38:20.609060Z",
     "shell.execute_reply": "2021-06-11T12:38:20.608649Z",
     "shell.execute_reply.started": "2021-06-11T11:15:45.737824Z"
    },
    "id": "a0yxDekMNaic",
    "outputId": "7b8761a7-4a4c-44eb-ca43-7d61c4b5bfe5",
    "papermill": {
     "duration": 0.045699,
     "end_time": "2021-06-11T12:38:20.609165",
     "exception": false,
     "start_time": "2021-06-11T12:38:20.563466",
     "status": "completed"
    },
    "tags": []
   },
   "outputs": [
    {
     "data": {
      "text/plain": [
       "RowNumber          False\n",
       "CustomerId         False\n",
       "Surname            False\n",
       "CreditScore        False\n",
       "Geography          False\n",
       "Gender             False\n",
       "Age                False\n",
       "Tenure             False\n",
       "Balance            False\n",
       "NumOfProducts      False\n",
       "HasCrCard          False\n",
       "IsActiveMember     False\n",
       "EstimatedSalary    False\n",
       "Exited             False\n",
       "dtype: bool"
      ]
     },
     "execution_count": 10,
     "metadata": {},
     "output_type": "execute_result"
    }
   ],
   "source": [
    "df.isna().any()"
   ]
  },
  {
   "cell_type": "code",
   "execution_count": 11,
   "id": "matched-palestine",
   "metadata": {
    "execution": {
     "iopub.execute_input": "2021-06-11T12:38:20.683709Z",
     "iopub.status.busy": "2021-06-11T12:38:20.682981Z",
     "iopub.status.idle": "2021-06-11T12:38:20.685953Z",
     "shell.execute_reply": "2021-06-11T12:38:20.686374Z",
     "shell.execute_reply.started": "2021-06-11T11:15:45.750342Z"
    },
    "id": "v0oirsE9OlOX",
    "outputId": "13b14cca-3c6a-4d9d-ecd4-c548017aab39",
    "papermill": {
     "duration": 0.043342,
     "end_time": "2021-06-11T12:38:20.686487",
     "exception": false,
     "start_time": "2021-06-11T12:38:20.643145",
     "status": "completed"
    },
    "tags": []
   },
   "outputs": [
    {
     "data": {
      "text/plain": [
       "Index(['CreditScore', 'Geography', 'Gender', 'Age', 'Tenure', 'Balance',\n",
       "       'NumOfProducts', 'HasCrCard', 'IsActiveMember', 'EstimatedSalary',\n",
       "       'Exited'],\n",
       "      dtype='object')"
      ]
     },
     "execution_count": 11,
     "metadata": {},
     "output_type": "execute_result"
    }
   ],
   "source": [
    "df.drop(['RowNumber','CustomerId','Surname'], axis=1, inplace=True)\n",
    "df.columns"
   ]
  },
  {
   "cell_type": "code",
   "execution_count": 12,
   "id": "entitled-myanmar",
   "metadata": {
    "execution": {
     "iopub.execute_input": "2021-06-11T12:38:20.899326Z",
     "iopub.status.busy": "2021-06-11T12:38:20.898539Z",
     "iopub.status.idle": "2021-06-11T12:38:20.909841Z",
     "shell.execute_reply": "2021-06-11T12:38:20.910801Z",
     "shell.execute_reply.started": "2021-06-11T11:15:45.760053Z"
    },
    "id": "sNm7RasGN5AY",
    "papermill": {
     "duration": 0.072051,
     "end_time": "2021-06-11T12:38:20.910981",
     "exception": false,
     "start_time": "2021-06-11T12:38:20.838930",
     "status": "completed"
    },
    "tags": []
   },
   "outputs": [],
   "source": [
    "# Converting 'Geography' and 'Gender' column\n",
    "geography = pd.get_dummies(df['Geography'], drop_first=True)\n",
    "gender = pd.get_dummies(df['Gender'], drop_first=True)"
   ]
  },
  {
   "cell_type": "code",
   "execution_count": 13,
   "id": "happy-matrix",
   "metadata": {
    "execution": {
     "iopub.execute_input": "2021-06-11T12:38:21.036452Z",
     "iopub.status.busy": "2021-06-11T12:38:21.035678Z",
     "iopub.status.idle": "2021-06-11T12:38:21.041541Z",
     "shell.execute_reply": "2021-06-11T12:38:21.042125Z",
     "shell.execute_reply.started": "2021-06-11T11:15:45.771419Z"
    },
    "id": "dFFfzI6GPZU6",
    "outputId": "4384eedc-bf56-4c68-aa1b-3f8bac1f9866",
    "papermill": {
     "duration": 0.069294,
     "end_time": "2021-06-11T12:38:21.042313",
     "exception": false,
     "start_time": "2021-06-11T12:38:20.973019",
     "status": "completed"
    },
    "tags": []
   },
   "outputs": [
    {
     "data": {
      "text/plain": [
       "Index(['CreditScore', 'Geography', 'Gender', 'Age', 'Tenure', 'Balance',\n",
       "       'NumOfProducts', 'HasCrCard', 'IsActiveMember', 'EstimatedSalary',\n",
       "       'Exited', 'Germany', 'Spain', 'Male'],\n",
       "      dtype='object')"
      ]
     },
     "execution_count": 13,
     "metadata": {},
     "output_type": "execute_result"
    }
   ],
   "source": [
    "# Appending columns to original dataframe\n",
    "df = pd.concat([df, geography, gender], axis=1)\n",
    "df.columns"
   ]
  },
  {
   "cell_type": "code",
   "execution_count": 14,
   "id": "decimal-groove",
   "metadata": {
    "execution": {
     "iopub.execute_input": "2021-06-11T12:38:21.160004Z",
     "iopub.status.busy": "2021-06-11T12:38:21.159296Z",
     "iopub.status.idle": "2021-06-11T12:38:21.162383Z",
     "shell.execute_reply": "2021-06-11T12:38:21.162927Z",
     "shell.execute_reply.started": "2021-06-11T11:15:45.782714Z"
    },
    "id": "ipWzcjHDSuPK",
    "papermill": {
     "duration": 0.064961,
     "end_time": "2021-06-11T12:38:21.163154",
     "exception": false,
     "start_time": "2021-06-11T12:38:21.098193",
     "status": "completed"
    },
    "tags": []
   },
   "outputs": [],
   "source": [
    "df.drop(['Geography', 'Gender'], axis=1, inplace=True)"
   ]
  },
  {
   "cell_type": "code",
   "execution_count": 15,
   "id": "conscious-pursuit",
   "metadata": {
    "execution": {
     "iopub.execute_input": "2021-06-11T12:38:21.397051Z",
     "iopub.status.busy": "2021-06-11T12:38:21.396212Z",
     "iopub.status.idle": "2021-06-11T12:38:21.398365Z",
     "shell.execute_reply": "2021-06-11T12:38:21.397734Z",
     "shell.execute_reply.started": "2021-06-11T11:15:45.792041Z"
    },
    "id": "00u9Ikg7Pmvp",
    "papermill": {
     "duration": 0.0661,
     "end_time": "2021-06-11T12:38:21.398508",
     "exception": false,
     "start_time": "2021-06-11T12:38:21.332408",
     "status": "completed"
    },
    "tags": []
   },
   "outputs": [],
   "source": [
    "X = df.drop('Exited', axis=1)\n",
    "y = df['Exited']"
   ]
  },
  {
   "cell_type": "code",
   "execution_count": 16,
   "id": "constant-signature",
   "metadata": {
    "execution": {
     "iopub.execute_input": "2021-06-11T12:38:21.517372Z",
     "iopub.status.busy": "2021-06-11T12:38:21.515926Z",
     "iopub.status.idle": "2021-06-11T12:38:21.703279Z",
     "shell.execute_reply": "2021-06-11T12:38:21.704328Z",
     "shell.execute_reply.started": "2021-06-11T11:15:45.799612Z"
    },
    "id": "nH92-yJLQzsR",
    "outputId": "c1a679b8-e033-4806-d827-6fd4db22cb27",
    "papermill": {
     "duration": 0.2499,
     "end_time": "2021-06-11T12:38:21.704507",
     "exception": false,
     "start_time": "2021-06-11T12:38:21.454607",
     "status": "completed"
    },
    "tags": []
   },
   "outputs": [
    {
     "name": "stdout",
     "output_type": "stream",
     "text": [
      "X_train size: (8000, 11), X_test size: (2000, 11)\n"
     ]
    }
   ],
   "source": [
    "# Splitting the dataset into train and test sets.\n",
    "from sklearn.model_selection import train_test_split\n",
    "X_train, X_test, y_train, y_test = train_test_split(X, y, test_size=0.20, random_state=0)\n",
    "print('X_train size: {}, X_test size: {}'.format(X_train.shape, X_test.shape))"
   ]
  },
  {
   "cell_type": "code",
   "execution_count": 17,
   "id": "played-edmonton",
   "metadata": {
    "execution": {
     "iopub.execute_input": "2021-06-11T12:38:21.810474Z",
     "iopub.status.busy": "2021-06-11T12:38:21.809503Z",
     "iopub.status.idle": "2021-06-11T12:38:21.825620Z",
     "shell.execute_reply": "2021-06-11T12:38:21.823262Z",
     "shell.execute_reply.started": "2021-06-11T11:15:45.978726Z"
    },
    "id": "-6V7kO8bRL8Z",
    "papermill": {
     "duration": 0.060213,
     "end_time": "2021-06-11T12:38:21.825957",
     "exception": false,
     "start_time": "2021-06-11T12:38:21.765744",
     "status": "completed"
    },
    "tags": []
   },
   "outputs": [],
   "source": [
    "# Feature Scaling\n",
    "from sklearn.preprocessing import StandardScaler\n",
    "sc = StandardScaler()\n",
    "X_train = sc.fit_transform(X_train)\n",
    "X_test = sc.transform(X_test)"
   ]
  },
  {
   "cell_type": "code",
   "execution_count": 18,
   "id": "powered-wealth",
   "metadata": {
    "execution": {
     "iopub.execute_input": "2021-06-11T12:38:22.336009Z",
     "iopub.status.busy": "2021-06-11T12:38:22.335508Z",
     "iopub.status.idle": "2021-06-11T12:38:26.604211Z",
     "shell.execute_reply": "2021-06-11T12:38:26.603334Z",
     "shell.execute_reply.started": "2021-06-11T11:15:45.994125Z"
    },
    "id": "blggsEuvSpsx",
    "outputId": "c9fdb2ad-8512-4329-bded-43bd49455452",
    "papermill": {
     "duration": 4.33249,
     "end_time": "2021-06-11T12:38:26.604355",
     "exception": false,
     "start_time": "2021-06-11T12:38:22.271865",
     "status": "completed"
    },
    "tags": []
   },
   "outputs": [],
   "source": [
    "# Importing the Keras libraries and packages\n",
    "import keras\n",
    "from keras.models import Sequential\n",
    "from keras.layers import Dense"
   ]
  },
  {
   "cell_type": "code",
   "execution_count": 19,
   "id": "applied-grain",
   "metadata": {
    "execution": {
     "iopub.execute_input": "2021-06-11T12:38:26.678077Z",
     "iopub.status.busy": "2021-06-11T12:38:26.677384Z",
     "iopub.status.idle": "2021-06-11T12:38:28.637261Z",
     "shell.execute_reply": "2021-06-11T12:38:28.637668Z",
     "shell.execute_reply.started": "2021-06-11T11:15:50.56662Z"
    },
    "id": "JJLU_q9STmnX",
    "papermill": {
     "duration": 1.998243,
     "end_time": "2021-06-11T12:38:28.637827",
     "exception": false,
     "start_time": "2021-06-11T12:38:26.639584",
     "status": "completed"
    },
    "tags": []
   },
   "outputs": [],
   "source": [
    "# Initialising the ANN\n",
    "classifier = Sequential()"
   ]
  },
  {
   "cell_type": "code",
   "execution_count": 20,
   "id": "normal-crown",
   "metadata": {
    "execution": {
     "iopub.execute_input": "2021-06-11T12:38:28.719343Z",
     "iopub.status.busy": "2021-06-11T12:38:28.718567Z",
     "iopub.status.idle": "2021-06-11T12:38:28.749808Z",
     "shell.execute_reply": "2021-06-11T12:38:28.748858Z",
     "shell.execute_reply.started": "2021-06-11T11:15:52.59372Z"
    },
    "id": "rbomJoOQTq_p",
    "papermill": {
     "duration": 0.075494,
     "end_time": "2021-06-11T12:38:28.749918",
     "exception": false,
     "start_time": "2021-06-11T12:38:28.674424",
     "status": "completed"
    },
    "tags": []
   },
   "outputs": [],
   "source": [
    "# Adding the input layer and the first hidden layer\n",
    "classifier.add(Dense(units=6, kernel_initializer='he_uniform', activation='relu', input_dim=11))"
   ]
  },
  {
   "cell_type": "code",
   "execution_count": 21,
   "id": "dirty-joseph",
   "metadata": {
    "execution": {
     "iopub.execute_input": "2021-06-11T12:38:28.825532Z",
     "iopub.status.busy": "2021-06-11T12:38:28.824733Z",
     "iopub.status.idle": "2021-06-11T12:38:28.831956Z",
     "shell.execute_reply": "2021-06-11T12:38:28.831567Z",
     "shell.execute_reply.started": "2021-06-11T11:15:52.639608Z"
    },
    "id": "u6DzHseSU9uw",
    "papermill": {
     "duration": 0.047262,
     "end_time": "2021-06-11T12:38:28.832073",
     "exception": false,
     "start_time": "2021-06-11T12:38:28.784811",
     "status": "completed"
    },
    "tags": []
   },
   "outputs": [],
   "source": [
    "# Adding the second hidden layer\n",
    "classifier.add(Dense(units=6, kernel_initializer='he_uniform', activation='relu'))"
   ]
  },
  {
   "cell_type": "code",
   "execution_count": 22,
   "id": "indie-audio",
   "metadata": {
    "execution": {
     "iopub.execute_input": "2021-06-11T12:38:28.908719Z",
     "iopub.status.busy": "2021-06-11T12:38:28.907911Z",
     "iopub.status.idle": "2021-06-11T12:38:28.916155Z",
     "shell.execute_reply": "2021-06-11T12:38:28.916529Z",
     "shell.execute_reply.started": "2021-06-11T11:15:52.655625Z"
    },
    "id": "CbpD-9obVj1Z",
    "papermill": {
     "duration": 0.049825,
     "end_time": "2021-06-11T12:38:28.916648",
     "exception": false,
     "start_time": "2021-06-11T12:38:28.866823",
     "status": "completed"
    },
    "tags": []
   },
   "outputs": [],
   "source": [
    "# Adding the output layer\n",
    "classifier.add(Dense(units=1, kernel_initializer='glorot_uniform', activation='sigmoid'))"
   ]
  },
  {
   "cell_type": "code",
   "execution_count": 23,
   "id": "personal-search",
   "metadata": {
    "execution": {
     "iopub.execute_input": "2021-06-11T12:38:28.997014Z",
     "iopub.status.busy": "2021-06-11T12:38:28.995444Z",
     "iopub.status.idle": "2021-06-11T12:38:29.002695Z",
     "shell.execute_reply": "2021-06-11T12:38:29.002294Z",
     "shell.execute_reply.started": "2021-06-11T11:15:52.670295Z"
    },
    "id": "agT54UANV8AA",
    "papermill": {
     "duration": 0.050472,
     "end_time": "2021-06-11T12:38:29.002796",
     "exception": false,
     "start_time": "2021-06-11T12:38:28.952324",
     "status": "completed"
    },
    "tags": []
   },
   "outputs": [],
   "source": [
    "# Compiling the ANN\n",
    "classifier.compile(optimizer='adam', loss='binary_crossentropy', metrics=['accuracy'])"
   ]
  },
  {
   "cell_type": "code",
   "execution_count": 24,
   "id": "twenty-titanium",
   "metadata": {
    "execution": {
     "iopub.execute_input": "2021-06-11T12:38:29.077554Z",
     "iopub.status.busy": "2021-06-11T12:38:29.076931Z",
     "iopub.status.idle": "2021-06-11T12:41:00.481485Z",
     "shell.execute_reply": "2021-06-11T12:41:00.481003Z",
     "shell.execute_reply.started": "2021-06-11T11:15:52.845275Z"
    },
    "id": "W9EpZTyLWRMY",
    "outputId": "34df3192-c088-41d7-ac5d-ebd4c810b9fa",
    "papermill": {
     "duration": 151.443923,
     "end_time": "2021-06-11T12:41:00.481618",
     "exception": false,
     "start_time": "2021-06-11T12:38:29.037695",
     "status": "completed"
    },
    "tags": []
   },
   "outputs": [
    {
     "name": "stdout",
     "output_type": "stream",
     "text": [
      "Epoch 1/100\n",
      "536/536 [==============================] - 3s 4ms/step - loss: 0.9596 - accuracy: 0.4283 - val_loss: 0.5221 - val_accuracy: 0.7959\n",
      "Epoch 2/100\n",
      "536/536 [==============================] - 2s 3ms/step - loss: 0.4902 - accuracy: 0.8029 - val_loss: 0.4838 - val_accuracy: 0.7970\n",
      "Epoch 3/100\n",
      "536/536 [==============================] - 1s 3ms/step - loss: 0.4534 - accuracy: 0.8064 - val_loss: 0.4589 - val_accuracy: 0.8005\n",
      "Epoch 4/100\n",
      "536/536 [==============================] - 1s 3ms/step - loss: 0.4278 - accuracy: 0.8143 - val_loss: 0.4396 - val_accuracy: 0.8058\n",
      "Epoch 5/100\n",
      "536/536 [==============================] - 1s 3ms/step - loss: 0.4108 - accuracy: 0.8227 - val_loss: 0.4220 - val_accuracy: 0.8133\n",
      "Epoch 6/100\n",
      "536/536 [==============================] - 1s 3ms/step - loss: 0.4090 - accuracy: 0.8278 - val_loss: 0.4067 - val_accuracy: 0.8217\n",
      "Epoch 7/100\n",
      "536/536 [==============================] - 1s 3ms/step - loss: 0.3834 - accuracy: 0.8462 - val_loss: 0.3930 - val_accuracy: 0.8330\n",
      "Epoch 8/100\n",
      "536/536 [==============================] - 1s 3ms/step - loss: 0.3610 - accuracy: 0.8474 - val_loss: 0.3828 - val_accuracy: 0.8372\n",
      "Epoch 9/100\n",
      "536/536 [==============================] - 2s 3ms/step - loss: 0.3654 - accuracy: 0.8459 - val_loss: 0.3777 - val_accuracy: 0.8398\n",
      "Epoch 10/100\n",
      "536/536 [==============================] - 1s 3ms/step - loss: 0.3755 - accuracy: 0.8380 - val_loss: 0.3756 - val_accuracy: 0.8372\n",
      "Epoch 11/100\n",
      "536/536 [==============================] - 1s 3ms/step - loss: 0.3515 - accuracy: 0.8416 - val_loss: 0.3717 - val_accuracy: 0.8425\n",
      "Epoch 12/100\n",
      "536/536 [==============================] - 1s 3ms/step - loss: 0.3496 - accuracy: 0.8520 - val_loss: 0.3703 - val_accuracy: 0.8455\n",
      "Epoch 13/100\n",
      "536/536 [==============================] - 1s 3ms/step - loss: 0.3670 - accuracy: 0.8427 - val_loss: 0.3691 - val_accuracy: 0.8466\n",
      "Epoch 14/100\n",
      "536/536 [==============================] - 1s 3ms/step - loss: 0.3529 - accuracy: 0.8521 - val_loss: 0.3670 - val_accuracy: 0.8474\n",
      "Epoch 15/100\n",
      "536/536 [==============================] - 1s 3ms/step - loss: 0.3273 - accuracy: 0.8642 - val_loss: 0.3656 - val_accuracy: 0.8493\n",
      "Epoch 16/100\n",
      "536/536 [==============================] - 1s 3ms/step - loss: 0.3416 - accuracy: 0.8575 - val_loss: 0.3670 - val_accuracy: 0.8485\n",
      "Epoch 17/100\n",
      "536/536 [==============================] - 2s 3ms/step - loss: 0.3369 - accuracy: 0.8636 - val_loss: 0.3641 - val_accuracy: 0.8523\n",
      "Epoch 18/100\n",
      "536/536 [==============================] - 1s 3ms/step - loss: 0.3465 - accuracy: 0.8591 - val_loss: 0.3645 - val_accuracy: 0.8501\n",
      "Epoch 19/100\n",
      "536/536 [==============================] - 1s 3ms/step - loss: 0.3456 - accuracy: 0.8547 - val_loss: 0.3632 - val_accuracy: 0.8561\n",
      "Epoch 20/100\n",
      "536/536 [==============================] - 2s 4ms/step - loss: 0.3314 - accuracy: 0.8671 - val_loss: 0.3636 - val_accuracy: 0.8519\n",
      "Epoch 21/100\n",
      "536/536 [==============================] - 1s 3ms/step - loss: 0.3265 - accuracy: 0.8680 - val_loss: 0.3624 - val_accuracy: 0.8531\n",
      "Epoch 22/100\n",
      "536/536 [==============================] - 1s 3ms/step - loss: 0.3311 - accuracy: 0.8680 - val_loss: 0.3633 - val_accuracy: 0.8523\n",
      "Epoch 23/100\n",
      "536/536 [==============================] - 1s 3ms/step - loss: 0.3326 - accuracy: 0.8653 - val_loss: 0.3617 - val_accuracy: 0.8516\n",
      "Epoch 24/100\n",
      "536/536 [==============================] - 2s 3ms/step - loss: 0.3288 - accuracy: 0.8655 - val_loss: 0.3608 - val_accuracy: 0.8531\n",
      "Epoch 25/100\n",
      "536/536 [==============================] - 1s 3ms/step - loss: 0.3259 - accuracy: 0.8668 - val_loss: 0.3593 - val_accuracy: 0.8523\n",
      "Epoch 26/100\n",
      "536/536 [==============================] - 1s 3ms/step - loss: 0.3318 - accuracy: 0.8600 - val_loss: 0.3609 - val_accuracy: 0.8542\n",
      "Epoch 27/100\n",
      "536/536 [==============================] - 1s 3ms/step - loss: 0.3247 - accuracy: 0.8621 - val_loss: 0.3594 - val_accuracy: 0.8557\n",
      "Epoch 28/100\n",
      "536/536 [==============================] - 1s 3ms/step - loss: 0.3275 - accuracy: 0.8643 - val_loss: 0.3589 - val_accuracy: 0.8557\n",
      "Epoch 29/100\n",
      "536/536 [==============================] - 1s 3ms/step - loss: 0.3309 - accuracy: 0.8638 - val_loss: 0.3606 - val_accuracy: 0.8557\n",
      "Epoch 30/100\n",
      "536/536 [==============================] - 1s 3ms/step - loss: 0.3172 - accuracy: 0.8749 - val_loss: 0.3608 - val_accuracy: 0.8550\n",
      "Epoch 31/100\n",
      "536/536 [==============================] - 2s 3ms/step - loss: 0.3235 - accuracy: 0.8618 - val_loss: 0.3586 - val_accuracy: 0.8580\n",
      "Epoch 32/100\n",
      "536/536 [==============================] - 2s 3ms/step - loss: 0.3256 - accuracy: 0.8633 - val_loss: 0.3595 - val_accuracy: 0.8591\n",
      "Epoch 33/100\n",
      "536/536 [==============================] - 1s 3ms/step - loss: 0.3333 - accuracy: 0.8590 - val_loss: 0.3596 - val_accuracy: 0.8576\n",
      "Epoch 34/100\n",
      "536/536 [==============================] - 1s 3ms/step - loss: 0.3219 - accuracy: 0.8712 - val_loss: 0.3581 - val_accuracy: 0.8576\n",
      "Epoch 35/100\n",
      "536/536 [==============================] - 1s 3ms/step - loss: 0.3285 - accuracy: 0.8673 - val_loss: 0.3568 - val_accuracy: 0.8557\n",
      "Epoch 36/100\n",
      "536/536 [==============================] - 1s 3ms/step - loss: 0.3334 - accuracy: 0.8589 - val_loss: 0.3594 - val_accuracy: 0.8573\n",
      "Epoch 37/100\n",
      "536/536 [==============================] - 1s 3ms/step - loss: 0.3306 - accuracy: 0.8622 - val_loss: 0.3574 - val_accuracy: 0.8550\n",
      "Epoch 38/100\n",
      "536/536 [==============================] - 1s 3ms/step - loss: 0.3266 - accuracy: 0.8644 - val_loss: 0.3577 - val_accuracy: 0.8546\n",
      "Epoch 39/100\n",
      "536/536 [==============================] - 2s 3ms/step - loss: 0.3318 - accuracy: 0.8604 - val_loss: 0.3567 - val_accuracy: 0.8550\n",
      "Epoch 40/100\n",
      "536/536 [==============================] - 1s 3ms/step - loss: 0.3367 - accuracy: 0.8554 - val_loss: 0.3563 - val_accuracy: 0.8565\n",
      "Epoch 41/100\n",
      "536/536 [==============================] - 2s 3ms/step - loss: 0.3384 - accuracy: 0.8619 - val_loss: 0.3566 - val_accuracy: 0.8546\n",
      "Epoch 42/100\n",
      "536/536 [==============================] - 2s 3ms/step - loss: 0.3168 - accuracy: 0.8679 - val_loss: 0.3578 - val_accuracy: 0.8580\n",
      "Epoch 43/100\n",
      "536/536 [==============================] - 1s 3ms/step - loss: 0.3273 - accuracy: 0.8644 - val_loss: 0.3570 - val_accuracy: 0.8550\n",
      "Epoch 44/100\n",
      "536/536 [==============================] - 1s 3ms/step - loss: 0.3305 - accuracy: 0.8654 - val_loss: 0.3565 - val_accuracy: 0.8565\n",
      "Epoch 45/100\n",
      "536/536 [==============================] - 1s 3ms/step - loss: 0.3170 - accuracy: 0.8715 - val_loss: 0.3573 - val_accuracy: 0.8565\n",
      "Epoch 46/100\n",
      "536/536 [==============================] - 2s 3ms/step - loss: 0.3013 - accuracy: 0.8813 - val_loss: 0.3591 - val_accuracy: 0.8565\n",
      "Epoch 47/100\n",
      "536/536 [==============================] - 1s 3ms/step - loss: 0.3176 - accuracy: 0.8675 - val_loss: 0.3582 - val_accuracy: 0.8550\n",
      "Epoch 48/100\n",
      "536/536 [==============================] - 1s 3ms/step - loss: 0.3292 - accuracy: 0.8594 - val_loss: 0.3576 - val_accuracy: 0.8531\n",
      "Epoch 49/100\n",
      "536/536 [==============================] - 1s 3ms/step - loss: 0.3281 - accuracy: 0.8675 - val_loss: 0.3586 - val_accuracy: 0.8561\n",
      "Epoch 50/100\n",
      "536/536 [==============================] - 1s 3ms/step - loss: 0.3160 - accuracy: 0.8728 - val_loss: 0.3580 - val_accuracy: 0.8554\n",
      "Epoch 51/100\n",
      "536/536 [==============================] - 1s 3ms/step - loss: 0.3295 - accuracy: 0.8631 - val_loss: 0.3588 - val_accuracy: 0.8546\n",
      "Epoch 52/100\n",
      "536/536 [==============================] - 1s 3ms/step - loss: 0.3244 - accuracy: 0.8639 - val_loss: 0.3574 - val_accuracy: 0.8573\n",
      "Epoch 53/100\n",
      "536/536 [==============================] - 1s 3ms/step - loss: 0.3168 - accuracy: 0.8683 - val_loss: 0.3583 - val_accuracy: 0.8535\n",
      "Epoch 54/100\n",
      "536/536 [==============================] - 2s 3ms/step - loss: 0.3159 - accuracy: 0.8677 - val_loss: 0.3574 - val_accuracy: 0.8546\n",
      "Epoch 55/100\n",
      "536/536 [==============================] - 1s 3ms/step - loss: 0.3361 - accuracy: 0.8574 - val_loss: 0.3578 - val_accuracy: 0.8565\n",
      "Epoch 56/100\n",
      "536/536 [==============================] - 1s 3ms/step - loss: 0.3213 - accuracy: 0.8646 - val_loss: 0.3569 - val_accuracy: 0.8557\n",
      "Epoch 57/100\n",
      "536/536 [==============================] - 1s 3ms/step - loss: 0.3186 - accuracy: 0.8713 - val_loss: 0.3608 - val_accuracy: 0.8542\n",
      "Epoch 58/100\n",
      "536/536 [==============================] - 1s 3ms/step - loss: 0.3186 - accuracy: 0.8673 - val_loss: 0.3576 - val_accuracy: 0.8550\n",
      "Epoch 59/100\n",
      "536/536 [==============================] - 1s 3ms/step - loss: 0.3140 - accuracy: 0.8707 - val_loss: 0.3588 - val_accuracy: 0.8550\n",
      "Epoch 60/100\n",
      "536/536 [==============================] - 1s 3ms/step - loss: 0.3243 - accuracy: 0.8637 - val_loss: 0.3567 - val_accuracy: 0.8565\n",
      "Epoch 61/100\n",
      "536/536 [==============================] - 2s 4ms/step - loss: 0.3143 - accuracy: 0.8733 - val_loss: 0.3580 - val_accuracy: 0.8546\n",
      "Epoch 62/100\n",
      "536/536 [==============================] - 1s 3ms/step - loss: 0.3227 - accuracy: 0.8634 - val_loss: 0.3567 - val_accuracy: 0.8550\n",
      "Epoch 63/100\n",
      "536/536 [==============================] - 1s 3ms/step - loss: 0.3173 - accuracy: 0.8701 - val_loss: 0.3585 - val_accuracy: 0.8546\n",
      "Epoch 64/100\n",
      "536/536 [==============================] - 1s 3ms/step - loss: 0.3273 - accuracy: 0.8668 - val_loss: 0.3578 - val_accuracy: 0.8557\n",
      "Epoch 65/100\n",
      "536/536 [==============================] - 2s 3ms/step - loss: 0.3250 - accuracy: 0.8638 - val_loss: 0.3583 - val_accuracy: 0.8542\n",
      "Epoch 66/100\n",
      "536/536 [==============================] - 1s 3ms/step - loss: 0.3271 - accuracy: 0.8630 - val_loss: 0.3577 - val_accuracy: 0.8550\n",
      "Epoch 67/100\n",
      "536/536 [==============================] - 1s 3ms/step - loss: 0.3266 - accuracy: 0.8654 - val_loss: 0.3589 - val_accuracy: 0.8538\n",
      "Epoch 68/100\n",
      "536/536 [==============================] - 2s 3ms/step - loss: 0.3111 - accuracy: 0.8706 - val_loss: 0.3591 - val_accuracy: 0.8531\n",
      "Epoch 69/100\n",
      "536/536 [==============================] - 1s 3ms/step - loss: 0.3285 - accuracy: 0.8633 - val_loss: 0.3574 - val_accuracy: 0.8542\n",
      "Epoch 70/100\n",
      "536/536 [==============================] - 1s 3ms/step - loss: 0.3234 - accuracy: 0.8647 - val_loss: 0.3588 - val_accuracy: 0.8546\n",
      "Epoch 71/100\n",
      "536/536 [==============================] - 1s 3ms/step - loss: 0.3213 - accuracy: 0.8677 - val_loss: 0.3613 - val_accuracy: 0.8516\n",
      "Epoch 72/100\n",
      "536/536 [==============================] - 1s 3ms/step - loss: 0.3131 - accuracy: 0.8729 - val_loss: 0.3578 - val_accuracy: 0.8535\n",
      "Epoch 73/100\n",
      "536/536 [==============================] - 1s 3ms/step - loss: 0.3290 - accuracy: 0.8609 - val_loss: 0.3571 - val_accuracy: 0.8554\n",
      "Epoch 74/100\n",
      "536/536 [==============================] - 1s 3ms/step - loss: 0.3261 - accuracy: 0.8627 - val_loss: 0.3590 - val_accuracy: 0.8561\n",
      "Epoch 75/100\n",
      "536/536 [==============================] - 1s 3ms/step - loss: 0.3290 - accuracy: 0.8634 - val_loss: 0.3579 - val_accuracy: 0.8516\n",
      "Epoch 76/100\n",
      "536/536 [==============================] - 2s 3ms/step - loss: 0.3212 - accuracy: 0.8680 - val_loss: 0.3574 - val_accuracy: 0.8565\n",
      "Epoch 77/100\n",
      "536/536 [==============================] - 1s 3ms/step - loss: 0.3312 - accuracy: 0.8563 - val_loss: 0.3580 - val_accuracy: 0.8546\n",
      "Epoch 78/100\n",
      "536/536 [==============================] - 1s 3ms/step - loss: 0.3167 - accuracy: 0.8685 - val_loss: 0.3579 - val_accuracy: 0.8535\n",
      "Epoch 79/100\n",
      "536/536 [==============================] - 1s 3ms/step - loss: 0.3095 - accuracy: 0.8715 - val_loss: 0.3581 - val_accuracy: 0.8546\n",
      "Epoch 80/100\n",
      "536/536 [==============================] - 1s 3ms/step - loss: 0.3255 - accuracy: 0.8602 - val_loss: 0.3588 - val_accuracy: 0.8573\n",
      "Epoch 81/100\n",
      "536/536 [==============================] - 1s 3ms/step - loss: 0.3075 - accuracy: 0.8710 - val_loss: 0.3581 - val_accuracy: 0.8561\n",
      "Epoch 82/100\n",
      "536/536 [==============================] - 2s 3ms/step - loss: 0.3178 - accuracy: 0.8663 - val_loss: 0.3579 - val_accuracy: 0.8535\n",
      "Epoch 83/100\n",
      "536/536 [==============================] - 2s 3ms/step - loss: 0.3077 - accuracy: 0.8732 - val_loss: 0.3580 - val_accuracy: 0.8561\n",
      "Epoch 84/100\n",
      "536/536 [==============================] - 1s 3ms/step - loss: 0.3247 - accuracy: 0.8654 - val_loss: 0.3583 - val_accuracy: 0.8554\n",
      "Epoch 85/100\n",
      "536/536 [==============================] - 2s 3ms/step - loss: 0.3187 - accuracy: 0.8613 - val_loss: 0.3574 - val_accuracy: 0.8557\n",
      "Epoch 86/100\n",
      "536/536 [==============================] - 1s 3ms/step - loss: 0.3185 - accuracy: 0.8669 - val_loss: 0.3612 - val_accuracy: 0.8546\n",
      "Epoch 87/100\n",
      "536/536 [==============================] - 2s 3ms/step - loss: 0.3159 - accuracy: 0.8709 - val_loss: 0.3578 - val_accuracy: 0.8569\n",
      "Epoch 88/100\n",
      "536/536 [==============================] - 1s 3ms/step - loss: 0.3122 - accuracy: 0.8730 - val_loss: 0.3573 - val_accuracy: 0.8580\n",
      "Epoch 89/100\n",
      "536/536 [==============================] - 1s 3ms/step - loss: 0.3138 - accuracy: 0.8694 - val_loss: 0.3575 - val_accuracy: 0.8557\n",
      "Epoch 90/100\n",
      "536/536 [==============================] - 2s 3ms/step - loss: 0.3198 - accuracy: 0.8687 - val_loss: 0.3579 - val_accuracy: 0.8550\n",
      "Epoch 91/100\n",
      "536/536 [==============================] - 1s 3ms/step - loss: 0.3194 - accuracy: 0.8668 - val_loss: 0.3586 - val_accuracy: 0.8557\n",
      "Epoch 92/100\n",
      "536/536 [==============================] - 1s 3ms/step - loss: 0.3187 - accuracy: 0.8663 - val_loss: 0.3579 - val_accuracy: 0.8565\n",
      "Epoch 93/100\n",
      "536/536 [==============================] - 1s 3ms/step - loss: 0.3218 - accuracy: 0.8666 - val_loss: 0.3604 - val_accuracy: 0.8508\n",
      "Epoch 94/100\n",
      "536/536 [==============================] - 1s 3ms/step - loss: 0.3227 - accuracy: 0.8714 - val_loss: 0.3570 - val_accuracy: 0.8561\n",
      "Epoch 95/100\n",
      "536/536 [==============================] - 2s 3ms/step - loss: 0.3145 - accuracy: 0.8704 - val_loss: 0.3612 - val_accuracy: 0.8561\n",
      "Epoch 96/100\n",
      "536/536 [==============================] - 1s 3ms/step - loss: 0.3142 - accuracy: 0.8698 - val_loss: 0.3605 - val_accuracy: 0.8542\n",
      "Epoch 97/100\n",
      "536/536 [==============================] - 2s 3ms/step - loss: 0.3267 - accuracy: 0.8615 - val_loss: 0.3571 - val_accuracy: 0.8573\n",
      "Epoch 98/100\n",
      "536/536 [==============================] - 2s 3ms/step - loss: 0.3151 - accuracy: 0.8671 - val_loss: 0.3584 - val_accuracy: 0.8554\n",
      "Epoch 99/100\n",
      "536/536 [==============================] - 1s 3ms/step - loss: 0.3189 - accuracy: 0.8697 - val_loss: 0.3577 - val_accuracy: 0.8561\n",
      "Epoch 100/100\n",
      "536/536 [==============================] - 1s 3ms/step - loss: 0.3157 - accuracy: 0.8724 - val_loss: 0.3577 - val_accuracy: 0.8561\n"
     ]
    }
   ],
   "source": [
    "# Fitting the ANN to the Training set\n",
    "model_history = classifier.fit(X_train, y_train, batch_size=10, validation_split=0.33, epochs=100)"
   ]
  },
  {
   "cell_type": "code",
   "execution_count": 25,
   "id": "specified-switch",
   "metadata": {
    "execution": {
     "iopub.execute_input": "2021-06-11T12:41:01.754400Z",
     "iopub.status.busy": "2021-06-11T12:41:01.753830Z",
     "iopub.status.idle": "2021-06-11T12:41:01.759830Z",
     "shell.execute_reply": "2021-06-11T12:41:01.759422Z",
     "shell.execute_reply.started": "2021-06-11T11:18:26.773536Z"
    },
    "id": "CrSgI4GpWXFp",
    "outputId": "82ef5604-839f-49e1-cfd2-6bfd13d71410",
    "papermill": {
     "duration": 0.664096,
     "end_time": "2021-06-11T12:41:01.759942",
     "exception": false,
     "start_time": "2021-06-11T12:41:01.095846",
     "status": "completed"
    },
    "tags": []
   },
   "outputs": [
    {
     "data": {
      "text/plain": [
       "dict_keys(['loss', 'accuracy', 'val_loss', 'val_accuracy'])"
      ]
     },
     "execution_count": 25,
     "metadata": {},
     "output_type": "execute_result"
    }
   ],
   "source": [
    "# List all data in history\n",
    "model_history.history.keys()"
   ]
  },
  {
   "cell_type": "code",
   "execution_count": 26,
   "id": "sustainable-garage",
   "metadata": {
    "execution": {
     "iopub.execute_input": "2021-06-11T12:41:03.035859Z",
     "iopub.status.busy": "2021-06-11T12:41:03.032899Z",
     "iopub.status.idle": "2021-06-11T12:41:03.128441Z",
     "shell.execute_reply": "2021-06-11T12:41:03.127880Z",
     "shell.execute_reply.started": "2021-06-11T11:18:26.783426Z"
    },
    "id": "6rtH_7O4dLl0",
    "outputId": "53823b5a-64f4-43f4-9e48-914823449005",
    "papermill": {
     "duration": 0.756772,
     "end_time": "2021-06-11T12:41:03.128568",
     "exception": false,
     "start_time": "2021-06-11T12:41:02.371796",
     "status": "completed"
    },
    "tags": []
   },
   "outputs": [
    {
     "data": {
      "image/png": "[encoded data removed]",
      "text/plain": [
       "<Figure size 576x576 with 1 Axes>"
      ]
     },
     "metadata": {
      "needs_background": "light"
     },
     "output_type": "display_data"
    }
   ],
   "source": [
    "# Summarize history for accuracy\n",
    "plt.figure(figsize=(8,8))\n",
    "plt.plot(model_history.history['accuracy'])\n",
    "plt.plot(model_history.history['val_accuracy'])\n",
    "plt.title('Model Accuracy')\n",
    "plt.ylabel('Accuracy')\n",
    "plt.xlabel('Epoch')\n",
    "plt.legend(['Train', 'Test'], loc='lower right')\n",
    "plt.show()"
   ]
  },
  {
   "cell_type": "code",
   "execution_count": 27,
   "id": "protected-connectivity",
   "metadata": {
    "execution": {
     "iopub.execute_input": "2021-06-11T12:41:04.410704Z",
     "iopub.status.busy": "2021-06-11T12:41:04.388487Z",
     "iopub.status.idle": "2021-06-11T12:41:04.511647Z",
     "shell.execute_reply": "2021-06-11T12:41:04.511184Z",
     "shell.execute_reply.started": "2021-06-11T11:18:26.921904Z"
    },
    "id": "725kLNbvdk2h",
    "outputId": "b7152b1b-a7b2-407f-80e4-f4a5b279e818",
    "papermill": {
     "duration": 0.772741,
     "end_time": "2021-06-11T12:41:04.511773",
     "exception": false,
     "start_time": "2021-06-11T12:41:03.739032",
     "status": "completed"
    },
    "tags": []
   },
   "outputs": [
    {
     "data": {
      "image/png": "[encoded data removed]",
      "text/plain": [
       "<Figure size 576x576 with 1 Axes>"
      ]
     },
     "metadata": {
      "needs_background": "light"
     },
     "output_type": "display_data"
    }
   ],
   "source": [
    "# Summarize history for loss\n",
    "plt.figure(figsize=(8,8))\n",
    "plt.plot(model_history.history['loss'])\n",
    "plt.plot(model_history.history['val_loss'])\n",
    "plt.title('Model Loss')\n",
    "plt.ylabel('Loss')\n",
    "plt.xlabel('Epoch')\n",
    "plt.legend(['Train', 'Test'], loc='upper right')\n",
    "plt.show()"
   ]
  },
  {
   "cell_type": "code",
   "execution_count": 28,
   "id": "prepared-briefing",
   "metadata": {
    "execution": {
     "iopub.execute_input": "2021-06-11T12:41:07.117892Z",
     "iopub.status.busy": "2021-06-11T12:41:07.117015Z",
     "iopub.status.idle": "2021-06-11T12:41:07.327572Z",
     "shell.execute_reply": "2021-06-11T12:41:07.326716Z",
     "shell.execute_reply.started": "2021-06-11T11:18:27.069562Z"
    },
    "id": "K1P-3Hy3efDi",
    "papermill": {
     "duration": 0.964913,
     "end_time": "2021-06-11T12:41:07.327721",
     "exception": false,
     "start_time": "2021-06-11T12:41:06.362808",
     "status": "completed"
    },
    "tags": []
   },
   "outputs": [],
   "source": [
    "# Predicting the Test set results\n",
    "y_pred = classifier.predict(X_test)"
   ]
  },
  {
   "cell_type": "code",
   "execution_count": 29,
   "id": "isolated-preliminary",
   "metadata": {
    "execution": {
     "iopub.execute_input": "2021-06-11T12:41:08.560113Z",
     "iopub.status.busy": "2021-06-11T12:41:08.559345Z",
     "iopub.status.idle": "2021-06-11T12:41:08.562891Z",
     "shell.execute_reply": "2021-06-11T12:41:08.563366Z",
     "shell.execute_reply.started": "2021-06-11T11:18:27.206114Z"
    },
    "id": "n3SMzTNYeK_f",
    "outputId": "d8c31d53-22c7-4477-b79d-84591d0aa674",
    "papermill": {
     "duration": 0.623187,
     "end_time": "2021-06-11T12:41:08.563506",
     "exception": false,
     "start_time": "2021-06-11T12:41:07.940319",
     "status": "completed"
    },
    "tags": []
   },
   "outputs": [
    {
     "data": {
      "text/plain": [
       "array([[0.2869268 ],\n",
       "       [0.23869401],\n",
       "       [0.15205406],\n",
       "       ...,\n",
       "       [0.13123678],\n",
       "       [0.18889114],\n",
       "       [0.25161642]], dtype=float32)"
      ]
     },
     "execution_count": 29,
     "metadata": {},
     "output_type": "execute_result"
    }
   ],
   "source": [
    "y_pred"
   ]
  },
  {
   "cell_type": "code",
   "execution_count": 30,
   "id": "forward-delaware",
   "metadata": {
    "execution": {
     "iopub.execute_input": "2021-06-11T12:41:09.875871Z",
     "iopub.status.busy": "2021-06-11T12:41:09.875308Z",
     "iopub.status.idle": "2021-06-11T12:41:09.882319Z",
     "shell.execute_reply": "2021-06-11T12:41:09.881763Z",
     "shell.execute_reply.started": "2021-06-11T11:18:27.213811Z"
    },
    "id": "5xdSt7h-ez2a",
    "outputId": "1759de9b-a20b-4278-f61e-a9e8f48eb154",
    "papermill": {
     "duration": 0.690708,
     "end_time": "2021-06-11T12:41:09.882454",
     "exception": false,
     "start_time": "2021-06-11T12:41:09.191746",
     "status": "completed"
    },
    "tags": []
   },
   "outputs": [
    {
     "data": {
      "text/plain": [
       "array([[False],\n",
       "       [False],\n",
       "       [False],\n",
       "       ...,\n",
       "       [False],\n",
       "       [False],\n",
       "       [False]])"
      ]
     },
     "execution_count": 30,
     "metadata": {},
     "output_type": "execute_result"
    }
   ],
   "source": [
    "y_pred = (y_pred > 0.5)\n",
    "y_pred"
   ]
  },
  {
   "cell_type": "code",
   "execution_count": 31,
   "id": "tested-karaoke",
   "metadata": {
    "execution": {
     "iopub.execute_input": "2021-06-11T12:41:12.368617Z",
     "iopub.status.busy": "2021-06-11T12:41:12.367824Z",
     "iopub.status.idle": "2021-06-11T12:41:12.380115Z",
     "shell.execute_reply": "2021-06-11T12:41:12.379692Z",
     "shell.execute_reply.started": "2021-06-11T11:18:27.225464Z"
    },
    "id": "jF6bqmNpe52h",
    "outputId": "774da455-7dd6-4a45-82b6-f3c101c08541",
    "papermill": {
     "duration": 0.633014,
     "end_time": "2021-06-11T12:41:12.380230",
     "exception": false,
     "start_time": "2021-06-11T12:41:11.747216",
     "status": "completed"
    },
    "tags": []
   },
   "outputs": [
    {
     "data": {
      "text/plain": [
       "array([[1506,   89],\n",
       "       [ 185,  220]])"
      ]
     },
     "execution_count": 31,
     "metadata": {},
     "output_type": "execute_result"
    }
   ],
   "source": [
    "# Making the Confusion Matrix\n",
    "from sklearn.metrics import confusion_matrix\n",
    "cm = confusion_matrix(y_test, y_pred)\n",
    "cm"
   ]
  },
  {
   "cell_type": "code",
   "execution_count": 32,
   "id": "subtle-african",
   "metadata": {
    "execution": {
     "iopub.execute_input": "2021-06-11T12:41:15.315428Z",
     "iopub.status.busy": "2021-06-11T12:41:15.292160Z",
     "iopub.status.idle": "2021-06-11T12:41:15.465681Z",
     "shell.execute_reply": "2021-06-11T12:41:15.465260Z",
     "shell.execute_reply.started": "2021-06-11T11:18:27.243403Z"
    },
    "id": "QtXiWRklgBfc",
    "outputId": "617e7fc6-b8dc-4f50-dfc9-d602be160a1c",
    "papermill": {
     "duration": 0.795829,
     "end_time": "2021-06-11T12:41:15.465802",
     "exception": false,
     "start_time": "2021-06-11T12:41:14.669973",
     "status": "completed"
    },
    "tags": []
   },
   "outputs": [
    {
     "data": {
      "image/png": "[encoded data removed]",
      "text/plain": [
       "<Figure size 576x432 with 2 Axes>"
      ]
     },
     "metadata": {
      "needs_background": "light"
     },
     "output_type": "display_data"
    }
   ],
   "source": [
    "# Plotting confusion matrix\n",
    "plt.figure(figsize=(8,6))\n",
    "sns.heatmap(cm, cmap='Blues', annot=True, xticklabels=['Did not Exit', 'Exit'], yticklabels=['Did not Exit', 'Exit'])\n",
    "plt.xlabel('Predicted values')\n",
    "plt.ylabel('Actual values')\n",
    "plt.title('Confusion Matrix for ANN model')\n",
    "plt.show()"
   ]
  },
  {
   "cell_type": "code",
   "execution_count": 33,
   "id": "cubic-finder",
   "metadata": {
    "execution": {
     "iopub.execute_input": "2021-06-11T12:41:18.068195Z",
     "iopub.status.busy": "2021-06-11T12:41:18.067280Z",
     "iopub.status.idle": "2021-06-11T12:41:18.071544Z",
     "shell.execute_reply": "2021-06-11T12:41:18.072198Z",
     "shell.execute_reply.started": "2021-06-11T11:18:27.417216Z"
    },
    "id": "GBP1RzKAhJKc",
    "outputId": "a2f26e3e-c15b-4428-9e1a-ea874829d3e4",
    "papermill": {
     "duration": 0.727887,
     "end_time": "2021-06-11T12:41:18.072381",
     "exception": false,
     "start_time": "2021-06-11T12:41:17.344494",
     "status": "completed"
    },
    "tags": []
   },
   "outputs": [
    {
     "name": "stdout",
     "output_type": "stream",
     "text": [
      "The accuracy for ANN model is: 86.3%\n"
     ]
    }
   ],
   "source": [
    "# Calculate the Accuracy\n",
    "from sklearn.metrics import accuracy_score\n",
    "score = accuracy_score(y_pred,y_test)\n",
    "print('The accuracy for ANN model is: {}%'.format(score*100))"
   ]
  },
  {
   "cell_type": "code",
   "execution_count": 34,
   "id": "governing-handbook",
   "metadata": {
    "execution": {
     "iopub.execute_input": "2021-06-11T12:41:21.889837Z",
     "iopub.status.busy": "2021-06-11T12:41:21.888956Z",
     "iopub.status.idle": "2021-06-11T12:41:21.891690Z",
     "shell.execute_reply": "2021-06-11T12:41:21.891268Z",
     "shell.execute_reply.started": "2021-06-11T11:18:27.42504Z"
    },
    "id": "vFxDPYQPh8nW",
    "papermill": {
     "duration": 0.620971,
     "end_time": "2021-06-11T12:41:21.891801",
     "exception": false,
     "start_time": "2021-06-11T12:41:21.270830",
     "status": "completed"
    },
    "tags": []
   },
   "outputs": [],
   "source": [
    "def predict_exit(sample_value):\n",
    "  \n",
    "  # Convert list to numpy array\n",
    "  sample_value = np.array(sample_value)\n",
    "\n",
    "  # Reshape because sample_value contains only 1 record\n",
    "  sample_value = sample_value.reshape(1, -1)\n",
    "\n",
    "  # Feature Scaling\n",
    "  sample_value = sc.transform(sample_value)\n",
    "\n",
    "  return classifier.predict(sample_value)"
   ]
  },
  {
   "cell_type": "code",
   "execution_count": 35,
   "id": "scientific-sport",
   "metadata": {
    "execution": {
     "iopub.execute_input": "2021-06-11T12:41:24.383670Z",
     "iopub.status.busy": "2021-06-11T12:41:24.382857Z",
     "iopub.status.idle": "2021-06-11T12:41:24.418823Z",
     "shell.execute_reply": "2021-06-11T12:41:24.419428Z",
     "shell.execute_reply.started": "2021-06-11T11:18:27.432656Z"
    },
    "id": "H60e-K6Vip_h",
    "outputId": "0de95cb1-1b90-45c6-eddc-2dd00d749c3c",
    "papermill": {
     "duration": 0.686088,
     "end_time": "2021-06-11T12:41:24.419609",
     "exception": false,
     "start_time": "2021-06-11T12:41:23.733521",
     "status": "completed"
    },
    "tags": []
   },
   "outputs": [
    {
     "name": "stdout",
     "output_type": "stream",
     "text": [
      "Prediction: Low change of exit.\n"
     ]
    }
   ],
   "source": [
    "# Predictions\n",
    "# Value order 'CreditScore','Age','Tenure','Balance','NumOfProducts','HasCrCard','IsActiveMember','EstimatedSalary','Germany','Spain','Male'.\n",
    "sample_value = [738, 62, 10, 83008.31, 1, 1, 1, 42766.03, 1, 0, 1]\n",
    "if predict_exit(sample_value)>0.5:\n",
    "  print('Prediction: High change of exit!')\n",
    "else:\n",
    "  print('Prediction: Low change of exit.')"
   ]
  },
  {
   "cell_type": "code",
   "execution_count": 36,
   "id": "national-theme",
   "metadata": {
    "execution": {
     "iopub.execute_input": "2021-06-11T12:41:25.656801Z",
     "iopub.status.busy": "2021-06-11T12:41:25.655965Z",
     "iopub.status.idle": "2021-06-11T12:41:25.692199Z",
     "shell.execute_reply": "2021-06-11T12:41:25.691752Z",
     "shell.execute_reply.started": "2021-06-11T11:18:27.477424Z"
    },
    "id": "n3zdnwfWkT0q",
    "outputId": "a1e1f00e-4a73-4d2b-a6fb-178d89b8fa3a",
    "papermill": {
     "duration": 0.657509,
     "end_time": "2021-06-11T12:41:25.692325",
     "exception": false,
     "start_time": "2021-06-11T12:41:25.034816",
     "status": "completed"
    },
    "tags": []
   },
   "outputs": [
    {
     "name": "stdout",
     "output_type": "stream",
     "text": [
      "Prediction: High change of exit!\n"
     ]
    }
   ],
   "source": [
    "# Predictions\n",
    "# Value order 'CreditScore','Age','Tenure','Balance','NumOfProducts','HasCrCard','IsActiveMember','EstimatedSalary','Germany','Spain','Male'.\n",
    "sample_value = [805, 45, 9, 116585.97, 1, 1, 0, 189428.75, 1, 0, 0]\n",
    "if predict_exit(sample_value)>0.5:\n",
    "  print('Prediction: High change of exit!')\n",
    "else:\n",
    "  print('Prediction: Low change of exit.')"
   ]
  }
 ],
 "metadata": {
  "kernelspec": {
   "display_name": "Python 3 (ipykernel)",
   "language": "python",
   "name": "python3"
  },
  "language_info": {
   "codemirror_mode": {
    "name": "ipython",
    "version": 3
   },
   "file_extension": ".py",
   "mimetype": "text/x-python",
   "name": "python",
   "nbconvert_exporter": "python",
   "pygments_lexer": "ipython3",
   "version": "3.9.13"
  },
  "papermill": {
   "default_parameters": {},
   "duration": 196.980163,
   "end_time": "2021-06-11T12:41:29.259494",
   "environment_variables": {},
   "exception": null,
   "input_path": "__notebook__.ipynb",
   "output_path": "__notebook__.ipynb",
   "parameters": {},
   "start_time": "2021-06-11T12:38:12.279331",
   "version": "2.3.3"
  }
 },
 "nbformat": 4,
 "nbformat_minor": 5
}
